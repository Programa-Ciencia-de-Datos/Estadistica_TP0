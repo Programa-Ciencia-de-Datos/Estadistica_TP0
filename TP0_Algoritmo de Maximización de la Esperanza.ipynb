{
 "cells": [
  {
   "cell_type": "markdown",
   "id": "d4e6a28f",
   "metadata": {},
   "source": [
    "## Algoritmo de Maximización de la Esperanza\n",
    "#### Estudiantes: Dennis Luna Acuña- Graciela Rivera Picado - Luis E. Vargas Porras"
   ]
  },
  {
   "cell_type": "markdown",
   "id": "03beed92",
   "metadata": {},
   "source": [
    "### Libraries"
   ]
  },
  {
   "cell_type": "code",
   "execution_count": 1,
   "id": "48fe6486",
   "metadata": {},
   "outputs": [],
   "source": [
    "import torch\n",
    "import matplotlib.pyplot as plt\n",
    "import numpy as np\n",
    "\n",
    "import scipy\n",
    "from scipy.stats import entropy\n",
    "from scipy.stats import norm\n",
    "from torch.distributions import normal\n",
    "from torch.distributions import multivariate_normal\n",
    "from scipy import stats \n",
    "import seaborn as sns "
   ]
  },
  {
   "cell_type": "markdown",
   "id": "b395041e",
   "metadata": {},
   "source": [
    "### 1. Generate data with Gaussian distribution\n",
    "\n",
    "*The data are artificially created with a 2-cluster Gaussian distribution with specific means and variances.*"
   ]
  },
  {
   "cell_type": "code",
   "execution_count": 194,
   "id": "71de967e",
   "metadata": {},
   "outputs": [
    {
     "name": "stdout",
     "output_type": "stream",
     "text": [
      "tensor([  2.8648,   3.3083,   0.1044,   2.7358,   4.4860,  -8.9876,   1.1485,\n",
      "          9.6950,  -3.6788,   3.9363,  -1.7886,   4.2121,   5.2152,   5.2952,\n",
      "          2.2927,   9.4963,  13.1850,   6.0478,  15.0264,   0.8894,   7.7897,\n",
      "          6.0519,   4.6075,   1.1867,   2.8868,  11.7880,   5.1880,   6.2925,\n",
      "          3.6702,  -0.8865,   7.0609,  -1.3470,   4.2516,   3.6336,   0.1166,\n",
      "         10.0623,   0.7941,   2.2215,  -5.3893,   1.2037,   3.4643,   2.9050,\n",
      "          5.9070,   4.6558,   3.0348,   5.3953,  10.6989,   0.8946,  11.5409,\n",
      "          5.5976,   8.0132,   5.0570,   2.8922,  -2.9520,  -3.8698,  -1.3116,\n",
      "          1.3963,  -2.0468,   3.4723,  -3.2157,  -4.0638,  -2.9813,   5.1865,\n",
      "          2.0020,  -0.0811,  16.5396,  14.3848,  -0.2930,  -1.2104, -14.8558,\n",
      "          0.9057,   0.3763,  -0.7733,   8.6594,   5.4328,   0.2478,   9.6075,\n",
      "          1.2391,  -2.8942,   2.6118,   3.3946,   3.8932,   1.4357,   4.5203,\n",
      "         10.2731,  -0.2482,   3.5860,   6.7388,   5.2272,   1.7734,   8.5104,\n",
      "          0.1101,   2.3461, -12.5047,   8.5220,   6.3486,  -2.3882,  -1.8733,\n",
      "          3.6470,  -0.9645,  21.8675,  22.3303,  25.0756,  30.0887,  30.0957,\n",
      "         27.7768,  28.8941,  27.4833,  27.7347,  31.0866,  31.3255,  24.1322,\n",
      "         22.5625,  28.7961,  33.9035,  27.7905,  24.2088,  21.4583,  22.8062,\n",
      "         29.3683,  30.1589,  24.2986,  23.2405,  28.3181,  27.7685,  32.3712,\n",
      "         22.2151,  25.1413,  30.4459,  26.8591,  25.4719,  20.0987,  26.1644,\n",
      "         22.8665,  33.1575,  28.5275,  26.4583,  30.6463,  30.2392,  27.4459,\n",
      "         26.4815,  26.5640,  25.1895,  26.9134,  23.9584,  31.4189,  23.3894,\n",
      "         26.1593,  23.9881,  24.4571,  24.3943,  26.4458,  23.2114,  23.6839,\n",
      "         25.9392,  24.1601,  26.0934,  25.6690,  21.0033,  29.4169,  21.2118,\n",
      "         28.2518,  29.8562,  20.6204,  24.3938,  18.3889,  25.4301,  29.2855,\n",
      "         30.5513,  19.1476,  28.1485,  29.9710,  27.2744,  26.2562,  27.9458,\n",
      "         25.7391,  26.1944,  25.3084,  30.5931,  25.0293,  23.3634,  26.4897,\n",
      "         29.6497,  24.6078,  28.7490,  24.5292,  26.3473,  22.7903,  21.7413,\n",
      "         30.0499,  26.9970,  23.4755,  27.1680,  25.7936,  29.9338,  24.8570,\n",
      "         29.7720,  28.8620,  25.5956,  26.0583])\n"
     ]
    },
    {
     "data": {
      "image/png": "[encoded data removed]",
      "text/plain": [
       "<Figure size 432x288 with 1 Axes>"
      ]
     },
     "metadata": {
      "needs_background": "light"
     },
     "output_type": "display_data"
    }
   ],
   "source": [
    "def createDataOneClass(means, std, numberSamplesPerClass):\n",
    "    normal_dist = torch.distributions.Normal(means,std)\n",
    "    gaussian_sample = normal_dist.sample((numberSamplesPerClass,1)).squeeze()\n",
    "    \n",
    "    return gaussian_sample\n",
    "\n",
    "\n",
    "def generate_data(numberSamplesPerClass, mean1, mean2 , stds1 , stds2 ):\n",
    "    \"\"\"\n",
    "    Creates the data to be used for training, using a GMM distribution\n",
    "    @param numberSamplesPerClass, the number of samples per class\n",
    "    @param mean1, means for samples from the class 1\n",
    "    @param mean2, means for samples from the class 2\n",
    "    @param stds1, standard deviation for samples, class 1\n",
    "    @param stds2, standard deviation for samples, class 2    \"\"\"\n",
    "\n",
    "    samplesClass1 = createDataOneClass(mean1, stds1, numberSamplesPerClass)\n",
    "    samplesClass2 = createDataOneClass(mean2, stds2, numberSamplesPerClass)\n",
    "    #Concatenates\n",
    "    samplesAll = torch.cat((samplesClass1, samplesClass2), 0)\n",
    "    print (samplesAll)\n",
    "\n",
    "    # Plot Data\n",
    "    y = np.zeros_like(samplesAll)\n",
    "    plt.scatter(samplesAll,y)\n",
    "    #plt.title('Plotting)\n",
    "    plt.xlabel('X Value')\n",
    "    plt.ylabel('PDF')\n",
    "\n",
    "    #Plot densities Functions\n",
    "    plt.scatter(samplesClass1, norm.pdf(samplesClass1, mean1, stds1))\n",
    "    plt.scatter(samplesClass2, norm.pdf(samplesClass2, mean2, stds2))      \n",
    "    \n",
    "    plt.show()\n",
    "    \n",
    "    return (samplesAll)\n",
    "\n",
    "'''\n",
    "Creates data with gaussian distribution\n",
    "'''\n",
    "\n",
    "#Call Function generate Data\n",
    "X_samples = generate_data(numberSamplesPerClass=100, mean1=3.0, mean2=26.0, stds1=5.0, stds2=3.0)\n",
    "\n"
   ]
  },
  {
   "cell_type": "markdown",
   "id": "74ffb379",
   "metadata": {},
   "source": [
    "### 2. Create init_random_parameters"
   ]
  },
  {
   "cell_type": "code",
   "execution_count": 195,
   "id": "1b8a9367",
   "metadata": {},
   "outputs": [
    {
     "data": {
      "text/plain": [
       "tensor([[40,  4],\n",
       "        [28,  2]])"
      ]
     },
     "execution_count": 195,
     "metadata": {},
     "output_type": "execute_result"
    }
   ],
   "source": [
    "def init_random_parameters(K=2, range_mean = [1,10], range_std = [1,5]):\n",
    "    \n",
    "    np.random.seed(2)    \n",
    "    \n",
    "    mean = torch.randint(range_mean[0],range_mean[1],(K,1))\n",
    "    std  = torch.randint(range_std[0], range_std[1],(K,1))  \n",
    "    \n",
    "    W = torch.cat((mean, std), 1)\n",
    "    \n",
    "    return W\n",
    "\n",
    "#test\n",
    "\n",
    "W_parameters = init_random_parameters(K=2, range_mean = [1,100], range_std = [1,10])\n",
    "W_parameters"
   ]
  },
  {
   "cell_type": "markdown",
   "id": "c0b49463",
   "metadata": {},
   "source": [
    "### 3. Likelihood Gaussian Observation Function"
   ]
  },
  {
   "cell_type": "code",
   "execution_count": 196,
   "id": "311fe63f",
   "metadata": {},
   "outputs": [
    {
     "data": {
      "text/plain": [
       "(tensor(3.9762e-06), tensor(1.8975e-08))"
      ]
     },
     "execution_count": 196,
     "metadata": {},
     "output_type": "execute_result"
    }
   ],
   "source": [
    "#Propuesta2Gracielav1\n",
    "def calculate_likelihood_gaussian_observation(x_n,mu_k,sigma_k):\n",
    "    \n",
    "    p_x1 = prob_density = (1/np.sqrt((2.0*np.pi*sigma_k[0]))) * np.exp(-0.5*((x_n- mu_k[0])/sigma_k[0])**2)\n",
    "    p_x2 = prob_density = (1/np.sqrt((2.0*np.pi*sigma_k[1]))) * np.exp(-0.5*((x_n- mu_k[1])/sigma_k[1])**2) \n",
    "    #p_xAll = torch.Tensor([p_x1,p_x2])\n",
    "    return p_x1,p_x2\n",
    "    \n",
    "calculate_likelihood_gaussian_observation(X_samples[0],mu_k=[10,20],sigma_k = [1.5,3])"
   ]
  },
  {
   "cell_type": "code",
   "execution_count": 197,
   "id": "39124cdc",
   "metadata": {},
   "outputs": [
    {
     "data": {
      "text/plain": [
       "(tensor(1.5532e-05), tensor(4.3662e-08), tensor(-11.0726), tensor(-16.9468))"
      ]
     },
     "execution_count": 197,
     "metadata": {},
     "output_type": "execute_result"
    }
   ],
   "source": [
    "#Propuesta2Graciela_conLOG\n",
    "def calculate_likelihood_gaussian_observationLOG(x_n,mu_k1,sigma_k1,mu_k2,sigma_k2):\n",
    "    \n",
    "    p_x1 = prob_density = (1/np.sqrt((2.0*np.pi*sigma_k1))) * np.exp(-0.5*((x_n- mu_k1)/sigma_k1)**2)\n",
    "    logp_x1= np.log(p_x1)\n",
    "    p_x2 = prob_density = (1/np.sqrt((2.0*np.pi*sigma_k2))) * np.exp(-0.5*((x_n- mu_k2)/sigma_k2)**2)\n",
    "    logp_x2 =  np.log(p_x2)\n",
    "    return p_x1,p_x2,logp_x1,logp_x2\n",
    "\n",
    "calculate_likelihood_gaussian_observationLOG(X_samples[1],mu_k1=10,sigma_k1=1.5,mu_k2=20,sigma_k2=3)"
   ]
  },
  {
   "cell_type": "markdown",
   "id": "c1670a36",
   "metadata": {},
   "source": [
    "### 4. Calculate_membership"
   ]
  },
  {
   "cell_type": "code",
   "execution_count": 198,
   "id": "fd084f2e",
   "metadata": {
    "scrolled": false
   },
   "outputs": [
    {
     "data": {
      "text/plain": [
       "tensor([[1., 0.],\n",
       "        [1., 0.],\n",
       "        [1., 0.],\n",
       "        [1., 0.],\n",
       "        [1., 0.],\n",
       "        [1., 0.],\n",
       "        [1., 0.],\n",
       "        [1., 0.],\n",
       "        [1., 0.],\n",
       "        [1., 0.],\n",
       "        [1., 0.],\n",
       "        [1., 0.],\n",
       "        [1., 0.],\n",
       "        [1., 0.],\n",
       "        [1., 0.],\n",
       "        [1., 0.],\n",
       "        [1., 0.],\n",
       "        [1., 0.],\n",
       "        [1., 0.],\n",
       "        [1., 0.],\n",
       "        [1., 0.],\n",
       "        [1., 0.],\n",
       "        [1., 0.],\n",
       "        [1., 0.],\n",
       "        [1., 0.],\n",
       "        [1., 0.],\n",
       "        [1., 0.],\n",
       "        [1., 0.],\n",
       "        [1., 0.],\n",
       "        [1., 0.],\n",
       "        [1., 0.],\n",
       "        [1., 0.],\n",
       "        [1., 0.],\n",
       "        [1., 0.],\n",
       "        [1., 0.],\n",
       "        [1., 0.],\n",
       "        [1., 0.],\n",
       "        [1., 0.],\n",
       "        [1., 0.],\n",
       "        [1., 0.],\n",
       "        [1., 0.],\n",
       "        [1., 0.],\n",
       "        [1., 0.],\n",
       "        [1., 0.],\n",
       "        [1., 0.],\n",
       "        [1., 0.],\n",
       "        [1., 0.],\n",
       "        [1., 0.],\n",
       "        [1., 0.],\n",
       "        [1., 0.],\n",
       "        [1., 0.],\n",
       "        [1., 0.],\n",
       "        [1., 0.],\n",
       "        [1., 0.],\n",
       "        [1., 0.],\n",
       "        [1., 0.],\n",
       "        [1., 0.],\n",
       "        [1., 0.],\n",
       "        [1., 0.],\n",
       "        [1., 0.],\n",
       "        [1., 0.],\n",
       "        [1., 0.],\n",
       "        [1., 0.],\n",
       "        [1., 0.],\n",
       "        [1., 0.],\n",
       "        [0., 1.],\n",
       "        [1., 0.],\n",
       "        [1., 0.],\n",
       "        [1., 0.],\n",
       "        [1., 0.],\n",
       "        [1., 0.],\n",
       "        [1., 0.],\n",
       "        [1., 0.],\n",
       "        [1., 0.],\n",
       "        [1., 0.],\n",
       "        [1., 0.],\n",
       "        [1., 0.],\n",
       "        [1., 0.],\n",
       "        [1., 0.],\n",
       "        [1., 0.],\n",
       "        [1., 0.],\n",
       "        [1., 0.],\n",
       "        [1., 0.],\n",
       "        [1., 0.],\n",
       "        [1., 0.],\n",
       "        [1., 0.],\n",
       "        [1., 0.],\n",
       "        [1., 0.],\n",
       "        [1., 0.],\n",
       "        [1., 0.],\n",
       "        [1., 0.],\n",
       "        [1., 0.],\n",
       "        [1., 0.],\n",
       "        [1., 0.],\n",
       "        [1., 0.],\n",
       "        [1., 0.],\n",
       "        [1., 0.],\n",
       "        [1., 0.],\n",
       "        [1., 0.],\n",
       "        [1., 0.],\n",
       "        [0., 1.],\n",
       "        [0., 1.],\n",
       "        [0., 1.],\n",
       "        [0., 1.],\n",
       "        [0., 1.],\n",
       "        [0., 1.],\n",
       "        [0., 1.],\n",
       "        [0., 1.],\n",
       "        [0., 1.],\n",
       "        [0., 1.],\n",
       "        [0., 1.],\n",
       "        [0., 1.],\n",
       "        [0., 1.],\n",
       "        [0., 1.],\n",
       "        [1., 0.],\n",
       "        [0., 1.],\n",
       "        [0., 1.],\n",
       "        [0., 1.],\n",
       "        [0., 1.],\n",
       "        [0., 1.],\n",
       "        [0., 1.],\n",
       "        [0., 1.],\n",
       "        [0., 1.],\n",
       "        [0., 1.],\n",
       "        [0., 1.],\n",
       "        [1., 0.],\n",
       "        [0., 1.],\n",
       "        [0., 1.],\n",
       "        [0., 1.],\n",
       "        [0., 1.],\n",
       "        [0., 1.],\n",
       "        [0., 1.],\n",
       "        [0., 1.],\n",
       "        [0., 1.],\n",
       "        [1., 0.],\n",
       "        [0., 1.],\n",
       "        [0., 1.],\n",
       "        [0., 1.],\n",
       "        [0., 1.],\n",
       "        [0., 1.],\n",
       "        [0., 1.],\n",
       "        [0., 1.],\n",
       "        [0., 1.],\n",
       "        [0., 1.],\n",
       "        [0., 1.],\n",
       "        [0., 1.],\n",
       "        [0., 1.],\n",
       "        [0., 1.],\n",
       "        [0., 1.],\n",
       "        [0., 1.],\n",
       "        [0., 1.],\n",
       "        [0., 1.],\n",
       "        [0., 1.],\n",
       "        [0., 1.],\n",
       "        [0., 1.],\n",
       "        [0., 1.],\n",
       "        [0., 1.],\n",
       "        [0., 1.],\n",
       "        [0., 1.],\n",
       "        [0., 1.],\n",
       "        [0., 1.],\n",
       "        [0., 1.],\n",
       "        [0., 1.],\n",
       "        [0., 1.],\n",
       "        [0., 1.],\n",
       "        [0., 1.],\n",
       "        [0., 1.],\n",
       "        [0., 1.],\n",
       "        [0., 1.],\n",
       "        [0., 1.],\n",
       "        [0., 1.],\n",
       "        [0., 1.],\n",
       "        [0., 1.],\n",
       "        [0., 1.],\n",
       "        [0., 1.],\n",
       "        [0., 1.],\n",
       "        [0., 1.],\n",
       "        [0., 1.],\n",
       "        [0., 1.],\n",
       "        [0., 1.],\n",
       "        [0., 1.],\n",
       "        [0., 1.],\n",
       "        [0., 1.],\n",
       "        [0., 1.],\n",
       "        [0., 1.],\n",
       "        [0., 1.],\n",
       "        [0., 1.],\n",
       "        [0., 1.],\n",
       "        [0., 1.],\n",
       "        [0., 1.],\n",
       "        [0., 1.],\n",
       "        [0., 1.],\n",
       "        [0., 1.],\n",
       "        [0., 1.],\n",
       "        [0., 1.],\n",
       "        [0., 1.],\n",
       "        [0., 1.],\n",
       "        [0., 1.],\n",
       "        [0., 1.],\n",
       "        [0., 1.]])"
      ]
     },
     "execution_count": 198,
     "metadata": {},
     "output_type": "execute_result"
    }
   ],
   "source": [
    "def calculate_membership_dataset(X_dataset,Parameters_matrix):\n",
    "    #crear una matriz con ceros\n",
    "    N = len(X_dataset)\n",
    "    k = 2\n",
    "    M = torch.zeros((N, k))\n",
    "    \n",
    "    #calculate_likelihood\n",
    "    likelihood1,likelihood2 = calculate_likelihood_gaussian_observation(X_dataset,Parameters_matrix[:,0],Parameters_matrix[:,1])\n",
    "    \n",
    "    #print(\"likelihood2:\", likelihood2.reshape([N, 1]))\n",
    "    likelihoodALL = torch.cat((likelihood1.reshape([N, 1]), likelihood2.reshape([N, 1])), 1)\n",
    "    \n",
    "    M[:,0] = likelihoodALL[:,0] > likelihoodALL[:,1] \n",
    "    M[:,1] = likelihoodALL[:,0] < likelihoodALL[:,1] \n",
    "    \n",
    "    return M\n",
    "\n",
    "#fix_param = torch.tensor([[10,1.5],[20,3]])\n",
    "Membership_Matrix = calculate_membership_dataset(X_samples,W_parameters)\n",
    "Membership_Matrix\n"
   ]
  },
  {
   "cell_type": "markdown",
   "id": "904d2010",
   "metadata": {},
   "source": [
    "## 5. Recalculate_parameters"
   ]
  },
  {
   "cell_type": "code",
   "execution_count": 199,
   "id": "57e8f6de",
   "metadata": {},
   "outputs": [
    {
     "data": {
      "text/plain": [
       "tensor([[ 3.7596,  7.1379],\n",
       "        [26.0485,  3.1323]])"
      ]
     },
     "execution_count": 199,
     "metadata": {},
     "output_type": "execute_result"
    }
   ],
   "source": [
    "def recalculate_parameters(X_dataset,Membership_data): \n",
    "    \n",
    "    #X1 = X_dataset[(Membership_data[:,0] == 1).nonzero(as_tuple=False)[0]]\n",
    "    N = len(X_dataset)   \n",
    "    \n",
    "    X1 = torch.cat((X_dataset.reshape([N, 1]),Membership_data[:,0].reshape([N, 1])),1)\n",
    "    X2 = torch.cat((X_dataset.reshape([N, 1]),Membership_data[:,1].reshape([N, 1])),1)\n",
    "    \n",
    "    X1_filtrada = X1[X1[:,1] == 1][:,0]\n",
    "    X2_filtrada = X2[X2[:,1] == 1][:,0]\n",
    "    \n",
    "    mu_x1 = torch.mean(X1_filtrada)\n",
    "    mu_x2 = torch.mean(X2_filtrada)\n",
    "    \n",
    "    sigma_x1 = torch.std(X1_filtrada)\n",
    "    sigma_x2 = torch.std(X2_filtrada)\n",
    "    \n",
    "    new_W = torch.tensor([[mu_x1,sigma_x1],[mu_x2,sigma_x2]])\n",
    "  \n",
    "    return new_W\n",
    "    \n",
    "recalculate_parameters(X_samples,Membership_Matrix)\n",
    "    "
   ]
  },
  {
   "cell_type": "markdown",
   "id": "bf64fecd",
   "metadata": {},
   "source": [
    "### 6. Corridas del Algoritmo"
   ]
  },
  {
   "cell_type": "code",
   "execution_count": 200,
   "id": "1729d603",
   "metadata": {},
   "outputs": [],
   "source": [
    "def corrida (R=20):\n",
    "    \n",
    "    W_parameters = init_random_parameters(K=2, range_mean = [1,100], range_std = [1,10])\n",
    "    new_W = torch.tensor([[0,0],[0,0]])\n",
    "    \n",
    "    for i in range(R):\n",
    "        if(i == 0):\n",
    "            new_M = calculate_membership_dataset(X_samples,W_parameters)\n",
    "        else:\n",
    "            new_M = calculate_membership_dataset(X_samples,new_W)\n",
    "        new_W = recalculate_parameters(X_samples,new_M)     \n",
    "           \n",
    "    # Plot Data\n",
    "    y = np.zeros_like(X_samples)\n",
    "    plt.scatter(X_samples,y)\n",
    "    #plt.title('Plotting)\n",
    "    plt.xlabel('X Value')\n",
    "    plt.ylabel('PDF')\n",
    "\n",
    "    #Plot densities Functions\n",
    "    plt.scatter(samplesClass1, norm.pdf(samplesClass1, new_W[0,0], new_W[0,1]))\n",
    "    plt.scatter(samplesClass2, norm.pdf(samplesClass2, new_W[1,0], new_W[1,1]))      \n",
    "    \n",
    "    plt.show()\n",
    "    \n",
    "    return new_W"
   ]
  },
  {
   "cell_type": "code",
   "execution_count": null,
   "id": "90920bc2",
   "metadata": {},
   "outputs": [],
   "source": []
  }
 ],
 "metadata": {
  "kernelspec": {
   "display_name": "Python 3 (ipykernel)",
   "language": "python",
   "name": "python3"
  },
  "language_info": {
   "codemirror_mode": {
    "name": "ipython",
    "version": 3
   },
   "file_extension": ".py",
   "mimetype": "text/x-python",
   "name": "python",
   "nbconvert_exporter": "python",
   "pygments_lexer": "ipython3",
   "version": "3.9.7"
  }
 },
 "nbformat": 4,
 "nbformat_minor": 5
}
