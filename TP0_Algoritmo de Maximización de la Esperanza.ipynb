{
 "cells": [
  {
   "cell_type": "markdown",
   "id": "d4e6a28f",
   "metadata": {},
   "source": [
    "## Algoritmo de Maximización de la Esperanza\n",
    "#### Estudiantes: Dennis Luna Acuña- Graciela Rivera Picado - Luis E. Vargas Porras"
   ]
  },
  {
   "cell_type": "markdown",
   "id": "03beed92",
   "metadata": {},
   "source": [
    "### Libraries"
   ]
  },
  {
   "cell_type": "code",
   "execution_count": 150,
   "id": "48fe6486",
   "metadata": {},
   "outputs": [],
   "source": [
    "import torch\n",
    "import matplotlib.pyplot as plt\n",
    "import numpy as np\n",
    "\n",
    "import scipy\n",
    "from scipy.stats import entropy\n",
    "from scipy.stats import norm\n",
    "from torch.distributions import normal\n",
    "from torch.distributions import multivariate_normal\n",
    "from scipy import stats \n",
    "import seaborn as sns "
   ]
  },
  {
   "cell_type": "markdown",
   "id": "b395041e",
   "metadata": {},
   "source": [
    "### 1. Generate data with Gaussian distribution\n",
    "\n",
    "*The data are artificially created with a 2-cluster Gaussian distribution with specific means and variances.*"
   ]
  },
  {
   "cell_type": "code",
   "execution_count": 182,
   "id": "71de967e",
   "metadata": {},
   "outputs": [
    {
     "name": "stdout",
     "output_type": "stream",
     "text": [
      "tensor([ 9.4847,  8.5385,  7.4368,  8.7713,  9.4561,  7.6919,  8.9120,  7.0212,\n",
      "        10.6019, 10.3848, 12.8809, 10.4188, 12.2312, 10.0721,  9.0372,  9.8760,\n",
      "        10.3470,  8.9816,  8.9958, 11.5701, 11.1192,  8.4304, 11.3031, 10.4933,\n",
      "         9.3776,  8.1282,  9.8312, 12.5979,  9.7553, 10.9083,  8.1048,  9.1356,\n",
      "        10.2177, 10.2128,  8.4842, 12.0136, 11.6593,  8.9016, 10.8302,  9.4084,\n",
      "        11.1425,  8.4147, 10.2234, 11.6909, 15.6213, 10.5690,  8.4904, 12.0659,\n",
      "        10.7468, 10.4135, 10.6710,  9.3816, 11.1216,  9.8776,  9.2080, 10.2240,\n",
      "         8.6461,  9.0095,  9.2091,  8.5127, 11.1948,  8.2910,  8.1267, 12.7455,\n",
      "        10.5152,  7.8646,  9.9710,  7.4682, 10.4468,  9.3834, 11.3999,  8.8663,\n",
      "         7.9348, 12.4644, 10.1081,  9.9502,  9.6188, 10.3607, 10.8591, 10.9493,\n",
      "         9.1192,  9.5753, 11.7072,  8.7671, 12.4201,  9.4534, 10.4105,  9.9707,\n",
      "         8.0785, 11.6616, 10.7616, 11.5214, 12.0980, 12.3159, 11.0958, 12.9452,\n",
      "        10.3348,  8.4492,  9.4830,  8.6706, 17.1094, 17.8749, 18.2804, 16.2964,\n",
      "        20.5829, 21.8288, 20.9633, 22.3960, 22.7870, 18.3949, 15.0661, 22.2040,\n",
      "        20.4114, 12.1699, 18.4751, 17.5784, 19.9486, 20.2066, 18.2306, 16.6140,\n",
      "        22.4832, 20.8873, 20.3772, 21.4582, 17.1238, 17.0201, 21.8361, 25.1500,\n",
      "        20.9198, 23.2442, 21.9462, 17.7121, 18.7425, 14.1029, 15.3699, 17.8318,\n",
      "        20.3509, 24.1245, 17.7893, 15.5592, 19.6950, 15.8463, 20.7661, 16.1336,\n",
      "        16.3359, 22.7136, 19.8902, 18.9552, 23.6934, 23.5816, 19.2589, 17.8539,\n",
      "        17.5467, 16.2289, 26.3053, 16.4245, 20.1424, 18.4580, 24.2314, 17.9388,\n",
      "        19.0329, 22.4781, 19.3826, 20.9824, 25.2100, 19.9570, 16.3476, 14.5500,\n",
      "        18.3223, 21.9866, 20.3514, 18.7781, 19.1123, 15.4269, 22.4347, 18.4401,\n",
      "        16.9090, 21.8163, 22.9925, 16.7956, 17.3036, 14.7626, 26.1987, 17.5936,\n",
      "        18.2362, 25.1703, 15.1689, 19.4480, 17.5787, 15.8214, 22.3374, 19.5535,\n",
      "        18.0740, 21.8177, 18.5624, 16.6977, 14.8806, 20.6770, 19.1003, 17.3125])\n"
     ]
    },
    {
     "data": {
      "image/png": "[encoded data removed]",
      "text/plain": [
       "<Figure size 864x576 with 1 Axes>"
      ]
     },
     "metadata": {
      "needs_background": "light"
     },
     "output_type": "display_data"
    }
   ],
   "source": [
    "def createDataOneClass(means, std, numberSamplesPerClass):\n",
    "    normal_dist = torch.distributions.Normal(means,std)\n",
    "    gaussian_sample = normal_dist.sample((numberSamplesPerClass,1)).squeeze()\n",
    "    \n",
    "    return gaussian_sample\n",
    "\n",
    "\n",
    "def generate_data(numberSamplesPerClass, mean1, mean2 , stds1 , stds2 ):\n",
    "    \"\"\"\n",
    "    Creates the data to be used for training, using a GMM distribution\n",
    "    @param numberSamplesPerClass, the number of samples per class\n",
    "    @param mean1, means for samples from the class 1\n",
    "    @param mean2, means for samples from the class 2\n",
    "    @param stds1, standard deviation for samples, class 1\n",
    "    @param stds2, standard deviation for samples, class 2    \"\"\"\n",
    "\n",
    "    samplesClass1 = createDataOneClass(mean1, stds1, numberSamplesPerClass)\n",
    "    samplesClass2 = createDataOneClass(mean2, stds2, numberSamplesPerClass)\n",
    "    #Concatenates\n",
    "    samplesAll = torch.cat((samplesClass1, samplesClass2), 0)\n",
    "    print (samplesAll)\n",
    "\n",
    "    # Plot Data\n",
    "    y = np.zeros_like(samplesAll)\n",
    "    plt.figure(figsize=(12,8)) \n",
    "    plt.scatter(samplesAll, y, label='Observations')\n",
    "    #plt.title('Plotting)\n",
    "    plt.xlabel('X Value')\n",
    "    plt.ylabel('PDF')\n",
    "\n",
    "    #Plot densities Functions\n",
    "    plt.scatter(samplesClass1, norm.pdf(samplesClass1, mean1, stds1), color=\"green\", label='Original Bi-Gaussian')\n",
    "    plt.scatter(samplesClass2, norm.pdf(samplesClass2, mean2, stds2), color=\"green\")\n",
    "    plt.legend()\n",
    "    plt.show()\n",
    "\n",
    "    \n",
    "    return (samplesAll, samplesClass1, samplesClass2)\n",
    "\n",
    "'''\n",
    "Creates data with gaussian distribution\n",
    "'''\n",
    "\n",
    "#Call Function generate Data\n",
    "X_allSamples, X1_samples, X2_samples = generate_data(numberSamplesPerClass=100, mean1=10.0, mean2=20.0, stds1=1.5, stds2=3.0)\n",
    "\n"
   ]
  },
  {
   "cell_type": "markdown",
   "id": "74ffb379",
   "metadata": {},
   "source": [
    "### 2. Create init_random_parameters"
   ]
  },
  {
   "cell_type": "code",
   "execution_count": 152,
   "id": "1b8a9367",
   "metadata": {},
   "outputs": [
    {
     "data": {
      "text/plain": [
       "tensor([[ 9,  3],\n",
       "        [14,  3]])"
      ]
     },
     "execution_count": 152,
     "metadata": {},
     "output_type": "execute_result"
    }
   ],
   "source": [
    "def init_random_parameters(K=2, range_mean = [1,10], range_std = [1,5]):\n",
    "    \n",
    "    np.random.seed(2)    \n",
    "    \n",
    "    mean = torch.randint(range_mean[0],range_mean[1],(K,1))\n",
    "    std  = torch.randint(range_std[0], range_std[1],(K,1))  \n",
    "    \n",
    "    W = torch.cat((mean, std), 1)\n",
    "    \n",
    "    return W\n",
    "\n",
    "#test\n",
    "\n",
    "W_parameters = init_random_parameters(K=2, range_mean = [1,50], range_std = [1,10])\n",
    "W_parameters"
   ]
  },
  {
   "cell_type": "markdown",
   "id": "c0b49463",
   "metadata": {},
   "source": [
    "### 3. Likelihood Gaussian Observation Function"
   ]
  },
  {
   "cell_type": "code",
   "execution_count": 153,
   "id": "311fe63f",
   "metadata": {},
   "outputs": [
    {
     "data": {
      "text/plain": [
       "(tensor(1.4341e-07), tensor(2.7822e-09))"
      ]
     },
     "execution_count": 153,
     "metadata": {},
     "output_type": "execute_result"
    }
   ],
   "source": [
    "#Propuesta2Gracielav1\n",
    "def calculate_likelihood_gaussian_observation(x_n,mu_k,sigma_k):\n",
    "    \n",
    "    p_x1 = prob_density = (1/np.sqrt((2.0*np.pi*sigma_k[0]))) * np.exp(-0.5*((x_n-mu_k[0])/sigma_k[0])**2)\n",
    "    p_x2 = prob_density = (1/np.sqrt((2.0*np.pi*sigma_k[1]))) * np.exp(-0.5*((x_n-mu_k[1])/sigma_k[1])**2) \n",
    "    #p_xAll = torch.Tensor([p_x1,p_x2])\n",
    "    return p_x1,p_x2\n",
    "    \n",
    "calculate_likelihood_gaussian_observation(X_allSamples[0], mu_k = [10,20], sigma_k = [1.5,3])"
   ]
  },
  {
   "cell_type": "code",
   "execution_count": 154,
   "id": "39124cdc",
   "metadata": {},
   "outputs": [
    {
     "data": {
      "text/plain": [
       "(tensor(-15.7576), tensor(-19.7000))"
      ]
     },
     "execution_count": 154,
     "metadata": {},
     "output_type": "execute_result"
    }
   ],
   "source": [
    "#Propuesta2Graciela_conLOG\n",
    "def calculate_likelihood_gaussian_observationLOG(x_n,mu_k,sigma_k):\n",
    "    \n",
    "    p_x1 = prob_density = (1/np.sqrt((2.0*np.pi*sigma_k[0]))) * np.exp(-0.5*((x_n-mu_k[0])/sigma_k[0])**2)\n",
    "    logp_x1= np.log(p_x1)\n",
    "    p_x2 = prob_density = (1/np.sqrt((2.0*np.pi*sigma_k[1]))) * np.exp(-0.5*((x_n-mu_k[1])/sigma_k[1])**2)\n",
    "    logp_x2 =  np.log(p_x2)\n",
    "    return logp_x1,logp_x2\n",
    "\n",
    "calculate_likelihood_gaussian_observationLOG(X_allSamples[0], mu_k = [10,20], sigma_k = [1.5,3])"
   ]
  },
  {
   "cell_type": "markdown",
   "id": "c1670a36",
   "metadata": {},
   "source": [
    "### 4. Calculate_membership"
   ]
  },
  {
   "cell_type": "code",
   "execution_count": 155,
   "id": "fd084f2e",
   "metadata": {
    "scrolled": false
   },
   "outputs": [],
   "source": [
    "def calculate_membership_dataset(X_dataset,Parameters_matrix):\n",
    "    #crear una matriz con ceros\n",
    "    N = len(X_dataset)\n",
    "    k = 2\n",
    "    M = torch.zeros((N, k))\n",
    "    \n",
    "    #calculate_likelihood\n",
    "    likelihood1,likelihood2 = calculate_likelihood_gaussian_observation(X_dataset,Parameters_matrix[:,0],Parameters_matrix[:,1])\n",
    "    \n",
    "    #print(\"likelihood2:\", likelihood2.reshape([N, 1]))\n",
    "    likelihoodALL = torch.cat((likelihood1.reshape([N, 1]), likelihood2.reshape([N, 1])), 1)\n",
    "    \n",
    "    M[:,0] = likelihoodALL[:,0] > likelihoodALL[:,1] \n",
    "    M[:,1] = likelihoodALL[:,0] < likelihoodALL[:,1] \n",
    "    \n",
    "    return M\n",
    "\n",
    "#fix_param = torch.tensor([[10,1.5],[20,3]])\n",
    "Membership_Matrix = calculate_membership_dataset(X_allSamples,W_parameters)\n",
    "#Membership_Matrix\n"
   ]
  },
  {
   "cell_type": "markdown",
   "id": "904d2010",
   "metadata": {},
   "source": [
    "## 5. Recalculate_parameters"
   ]
  },
  {
   "cell_type": "code",
   "execution_count": 187,
   "id": "57e8f6de",
   "metadata": {},
   "outputs": [
    {
     "data": {
      "text/plain": [
       "tensor([[10.0283,  1.4892],\n",
       "        [18.9008,  3.4088]])"
      ]
     },
     "execution_count": 187,
     "metadata": {},
     "output_type": "execute_result"
    }
   ],
   "source": [
    "def recalculate_parameters(X_dataset,Membership_data): \n",
    "    \n",
    "    N = len(X_dataset)   \n",
    "    \n",
    "    X1 = torch.cat((X_dataset.reshape([N, 1]),Membership_data[:,0].reshape([N, 1])),1)\n",
    "    X2 = torch.cat((X_dataset.reshape([N, 1]),Membership_data[:,1].reshape([N, 1])),1)\n",
    "    \n",
    "    X1_filtrada = X1[X1[:,1] == 1][:,0]\n",
    "    X2_filtrada = X2[X2[:,1] == 1][:,0]\n",
    "    \n",
    "    mu_x1 = torch.mean(X1_filtrada)\n",
    "    mu_x2 = torch.mean(X2_filtrada)\n",
    "    \n",
    "    sigma_x1 = torch.std(X1_filtrada)\n",
    "    sigma_x2 = torch.std(X2_filtrada)\n",
    "    \n",
    "    new_W = torch.tensor([[mu_x1,sigma_x1],[mu_x2,sigma_x2]])\n",
    "  \n",
    "    return new_W\n",
    "    \n",
    "recalculate_parameters(X_allSamples,Membership_Matrix)\n",
    "    "
   ]
  },
  {
   "cell_type": "markdown",
   "id": "bf64fecd",
   "metadata": {},
   "source": [
    "### 6. Corridas del Algoritmo"
   ]
  },
  {
   "cell_type": "code",
   "execution_count": 191,
   "id": "1729d603",
   "metadata": {
    "scrolled": false
   },
   "outputs": [
    {
     "name": "stdout",
     "output_type": "stream",
     "text": [
      "Iteration number: 0\n",
      "Parameters values used: tensor([[ 9,  4],\n",
      "        [37,  7]])\n",
      "\n",
      "Iteration number: 1\n",
      "Parameters values used: tensor([[12.6165,  3.7399],\n",
      "        [22.0247,  1.7883]])\n",
      "\n",
      "Iteration number: 2\n",
      "Parameters values used: tensor([[12.2202,  3.4791],\n",
      "        [21.5264,  1.9726]])\n",
      "\n",
      "Iteration number: 3\n",
      "Parameters values used: tensor([[11.7730,  3.1671],\n",
      "        [21.0218,  2.1536]])\n",
      "\n",
      "Iteration number: 4\n",
      "Parameters values used: tensor([[11.2079,  2.7059],\n",
      "        [20.4838,  2.3307]])\n",
      "\n",
      "Iteration number: 5\n",
      "Parameters values used: tensor([[10.6290,  2.1388],\n",
      "        [19.9562,  2.5394]])\n",
      "\n",
      "Iteration number: 6\n",
      "Parameters values used: tensor([[10.2026,  1.6308],\n",
      "        [19.5438,  2.7402]])\n",
      "\n",
      "Iteration number: 7\n",
      "Parameters values used: tensor([[10.0277,  1.4001],\n",
      "        [19.3450,  2.8578]])\n",
      "\n",
      "Iteration number: 8\n",
      "Parameters values used: tensor([[10.0277,  1.4001],\n",
      "        [19.3450,  2.8578]])\n",
      "\n",
      "Iteration number: 9\n",
      "Parameters values used: tensor([[10.0277,  1.4001],\n",
      "        [19.3450,  2.8578]])\n",
      "\n",
      "Iteration number: 10\n",
      "Parameters values used: tensor([[10.0277,  1.4001],\n",
      "        [19.3450,  2.8578]])\n",
      "\n",
      "Iteration number: 11\n",
      "Parameters values used: tensor([[10.0277,  1.4001],\n",
      "        [19.3450,  2.8578]])\n",
      "\n",
      "Iteration number: 12\n",
      "Parameters values used: tensor([[10.0277,  1.4001],\n",
      "        [19.3450,  2.8578]])\n",
      "\n",
      "Iteration number: 13\n",
      "Parameters values used: tensor([[10.0277,  1.4001],\n",
      "        [19.3450,  2.8578]])\n",
      "\n",
      "Iteration number: 14\n",
      "Parameters values used: tensor([[10.0277,  1.4001],\n",
      "        [19.3450,  2.8578]])\n",
      "\n",
      "Iteration number: 15\n",
      "Parameters values used: tensor([[10.0277,  1.4001],\n",
      "        [19.3450,  2.8578]])\n",
      "\n",
      "Iteration number: 16\n",
      "Parameters values used: tensor([[10.0277,  1.4001],\n",
      "        [19.3450,  2.8578]])\n",
      "\n",
      "Iteration number: 17\n",
      "Parameters values used: tensor([[10.0277,  1.4001],\n",
      "        [19.3450,  2.8578]])\n",
      "\n",
      "Iteration number: 18\n",
      "Parameters values used: tensor([[10.0277,  1.4001],\n",
      "        [19.3450,  2.8578]])\n",
      "\n",
      "Iteration number: 19\n",
      "Parameters values used: tensor([[10.0277,  1.4001],\n",
      "        [19.3450,  2.8578]])\n",
      "\n"
     ]
    },
    {
     "data": {
      "image/png": "[encoded data removed]",
      "text/plain": [
       "<Figure size 864x576 with 1 Axes>"
      ]
     },
     "metadata": {
      "needs_background": "light"
     },
     "output_type": "display_data"
    }
   ],
   "source": [
    "W_parameters = init_random_parameters(K=2, range_mean = [1,50], range_std = [1,10])\n",
    "\n",
    "for i in range(20):\n",
    "    print(\"Iteration number: %s\"%i)\n",
    "    print(\"Parameters values used: %s\\n\"%W_parameters)\n",
    "    new_M = calculate_membership_dataset(X_allSamples,W_parameters)\n",
    "    W_parameters = recalculate_parameters(X_allSamples,new_M)     \n",
    "\n",
    "# Plot Data\n",
    "y = np.zeros_like(X_allSamples)\n",
    "plt.figure(figsize=(12,8))\n",
    "plt.scatter(X_allSamples, y, label=\"Observations\")\n",
    "#plt.title('Plotting)\n",
    "plt.xlabel('X Value')\n",
    "plt.ylabel('PDF')\n",
    "\n",
    "#Plot densities Functions\n",
    "plt.scatter(X1_samples, norm.pdf(X1_samples, 10, 1.5), color=\"green\", label='Original Bi-Gaussian')\n",
    "plt.scatter(X2_samples, norm.pdf(X2_samples, 20, 3), color=\"green\") \n",
    "plt.scatter(X1_samples, norm.pdf(X1_samples, W_parameters[0,0], W_parameters[0,1]), color='orange', label='New Bi-Gaussian')\n",
    "plt.scatter(X2_samples, norm.pdf(X2_samples, W_parameters[1,0], W_parameters[1,1]), color='orange')      \n",
    "plt.legend()\n",
    "plt.show()"
   ]
  },
  {
   "cell_type": "code",
   "execution_count": null,
   "id": "90920bc2",
   "metadata": {},
   "outputs": [],
   "source": []
  }
 ],
 "metadata": {
  "kernelspec": {
   "display_name": "Python 3 (ipykernel)",
   "language": "python",
   "name": "python3"
  },
  "language_info": {
   "codemirror_mode": {
    "name": "ipython",
    "version": 3
   },
   "file_extension": ".py",
   "mimetype": "text/x-python",
   "name": "python",
   "nbconvert_exporter": "python",
   "pygments_lexer": "ipython3",
   "version": "3.9.7"
  }
 },
 "nbformat": 4,
 "nbformat_minor": 5
}
