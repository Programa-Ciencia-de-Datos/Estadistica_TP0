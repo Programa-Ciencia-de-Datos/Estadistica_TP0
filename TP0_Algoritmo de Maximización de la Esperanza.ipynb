{
 "cells": [
  {
   "cell_type": "markdown",
   "id": "d4e6a28f",
   "metadata": {},
   "source": [
    "## Algoritmo de Maximización de la Esperanza\n",
    "#### Estudiantes: Dennis Luna Acuña- Graciela Rivera Picado - Luis E. Vargas Porras"
   ]
  },
  {
   "cell_type": "markdown",
   "id": "03beed92",
   "metadata": {},
   "source": [
    "### Libraries"
   ]
  },
  {
   "cell_type": "code",
   "execution_count": 2,
   "id": "48fe6486",
   "metadata": {},
   "outputs": [],
   "source": [
    "import torch\n",
    "import matplotlib.pyplot as plt\n",
    "import numpy as np\n",
    "\n",
    "import scipy\n",
    "from scipy.stats import entropy\n",
    "from scipy.stats import norm\n",
    "from torch.distributions import normal\n",
    "from torch.distributions import multivariate_normal\n",
    "from scipy import stats \n",
    "import seaborn as sns "
   ]
  },
  {
   "cell_type": "markdown",
   "id": "b395041e",
   "metadata": {},
   "source": [
    "### 1. Generate data with Gaussian distribution\n",
    "\n",
    "*The data are artificially created with a 2-cluster Gaussian distribution with specific means and variances.*"
   ]
  },
  {
   "cell_type": "code",
   "execution_count": 25,
   "id": "71de967e",
   "metadata": {},
   "outputs": [
    {
     "name": "stdout",
     "output_type": "stream",
     "text": [
      "tensor([ 3.7075, -3.6081,  4.3856,  1.6230,  6.5006, 10.1910,  1.4796, -0.6327,\n",
      "         9.0143, -1.5047,  0.1470,  6.9611,  1.7616,  5.4054,  3.1835, -4.6033,\n",
      "        -2.3294,  0.8387,  7.9637,  8.5175,  2.1451,  2.4592,  5.6643, 10.2535,\n",
      "         8.6948,  7.9785,  8.0299,  4.2200,  6.9695, -1.6489, -6.4437,  8.8987,\n",
      "         5.3562, -7.7197,  3.8449,  5.1855, 13.0195,  6.5047, -6.3746, -2.9532,\n",
      "         6.1305, -1.9245,  4.2162, -3.0373,  2.9962,  0.1390,  0.7252,  3.7163,\n",
      "         5.0565,  7.1056,  2.9593, -1.9038,  1.5945, -3.9891, -0.1409, -2.8034,\n",
      "        -1.5732, -3.7001,  1.5314, -3.5034,  7.5384,  4.8179,  0.3272,  4.1501,\n",
      "         2.3165,  4.2025, -2.9725, 10.2745, -0.7275,  6.2536,  6.1432,  0.0988,\n",
      "         1.1786,  7.6157, 13.5970,  4.2823,  1.7894,  6.2708, -0.9408, -4.8332,\n",
      "         1.6261,  6.5631,  1.8393,  3.5273,  3.0723,  5.0003,  5.8034,  2.6064,\n",
      "         6.6766,  6.9167, 12.4539,  1.6690,  5.2691,  4.1198, 11.0160,  7.6512,\n",
      "        -2.1572, 10.1612, -1.6002,  0.2211, 22.5320, 24.0362, 27.1741, 25.9952,\n",
      "        25.5914, 21.8265, 24.4518, 30.6401, 26.1346, 21.9636, 24.1668, 26.4170,\n",
      "        23.5968, 24.3698, 28.1803, 25.1046, 21.6387, 26.2056, 29.4377, 22.7506,\n",
      "        22.0924, 25.1357, 27.1945, 22.6277, 27.7974, 25.8565, 26.5056, 25.6731,\n",
      "        27.1326, 21.2215, 23.9714, 23.8186, 29.3751, 27.0110, 28.1004, 25.7230,\n",
      "        27.1134, 32.4118, 24.0606, 22.4895, 24.9615, 19.6553, 25.3181, 22.6173,\n",
      "        30.3809, 24.1805, 22.9143, 19.2919, 28.5941, 26.1494, 31.6689, 30.5724,\n",
      "        23.4689, 21.7633, 26.7344, 22.0650, 24.6794, 20.7238, 24.6185, 27.1139,\n",
      "        26.7252, 21.9810, 21.2357, 28.8904, 25.2081, 30.1603, 23.3475, 21.3727,\n",
      "        22.4750, 23.6654, 31.3240, 25.8503, 29.6044, 25.9491, 26.3494, 27.7889,\n",
      "        22.1005, 30.8557, 22.3350, 21.7950, 27.7502, 26.8586, 25.5593, 25.3679,\n",
      "        28.2195, 29.4793, 17.6057, 20.4098, 23.8608, 22.8591, 20.2702, 26.8657,\n",
      "        26.2797, 23.4248, 29.6580, 28.2452, 22.5290, 28.7774, 23.7024, 25.7795])\n"
     ]
    },
    {
     "data": {
      "image/png": "[encoded data removed]",
      "text/plain": [
       "<Figure size 432x288 with 1 Axes>"
      ]
     },
     "metadata": {
      "needs_background": "light"
     },
     "output_type": "display_data"
    }
   ],
   "source": [
    "def createDataOneClass(means, std, numberSamplesPerClass):\n",
    "    normal_dist = torch.distributions.Normal(means,std)\n",
    "    gaussian_sample = normal_dist.sample((numberSamplesPerClass,1)).squeeze()\n",
    "    \n",
    "    return gaussian_sample\n",
    "\n",
    "\n",
    "def generate_data(numberSamplesPerClass, mean1, mean2 , stds1 , stds2 ):\n",
    "    \"\"\"\n",
    "    Creates the data to be used for training, using a GMM distribution\n",
    "    @param numberSamplesPerClass, the number of samples per class\n",
    "    @param mean1, means for samples from the class 1\n",
    "    @param mean2, means for samples from the class 2\n",
    "    @param stds1, standard deviation for samples, class 1\n",
    "    @param stds2, standard deviation for samples, class 2    \"\"\"\n",
    "\n",
    "    samplesClass1 = createDataOneClass(mean1, stds1, numberSamplesPerClass)\n",
    "    samplesClass2 = createDataOneClass(mean2, stds2, numberSamplesPerClass)\n",
    "    #Concatenates\n",
    "    samplesAll = torch.cat((samplesClass1, samplesClass2), 0)\n",
    "    print (samplesAll)\n",
    "\n",
    "    # Plot Data\n",
    "    y = np.zeros_like(samplesAll)\n",
    "    plt.scatter(samplesAll,y)\n",
    "    #plt.title('Plotting)\n",
    "    plt.xlabel('X Value')\n",
    "    plt.ylabel('PDF')\n",
    "\n",
    "    #Plot densities Functions\n",
    "    plt.scatter(samplesClass1, norm.pdf(samplesClass1, mean1, stds1))\n",
    "    plt.scatter(samplesClass2, norm.pdf(samplesClass2, mean2, stds2))      \n",
    "    \n",
    "    plt.show()\n",
    "    \n",
    "    return (samplesAll, samplesClass1, samplesClass2)\n",
    "\n",
    "'''\n",
    "Creates data with gaussian distribution\n",
    "'''\n",
    "\n",
    "#Call Function generate Data\n",
    "X_allSamples, X1_samples, X2_samples = generate_data(numberSamplesPerClass=100, mean1=3.0, mean2=26.0, stds1=5.0, stds2=3.0)\n",
    "\n"
   ]
  },
  {
   "cell_type": "markdown",
   "id": "74ffb379",
   "metadata": {},
   "source": [
    "### 2. Create init_random_parameters"
   ]
  },
  {
   "cell_type": "code",
   "execution_count": 37,
   "id": "1b8a9367",
   "metadata": {},
   "outputs": [
    {
     "data": {
      "text/plain": [
       "tensor([[24,  8],\n",
       "        [ 1,  2]])"
      ]
     },
     "execution_count": 37,
     "metadata": {},
     "output_type": "execute_result"
    }
   ],
   "source": [
    "def init_random_parameters(K=2, range_mean = [1,10], range_std = [1,5]):\n",
    "    \n",
    "    np.random.seed(2)    \n",
    "    \n",
    "    mean = torch.randint(range_mean[0],range_mean[1],(K,1))\n",
    "    std  = torch.randint(range_std[0], range_std[1],(K,1))  \n",
    "    \n",
    "    W = torch.cat((mean, std), 1)\n",
    "    \n",
    "    return W\n",
    "\n",
    "#test\n",
    "\n",
    "W_parameters = init_random_parameters(K=2, range_mean = [1,50], range_std = [1,10])\n",
    "W_parameters"
   ]
  },
  {
   "cell_type": "markdown",
   "id": "c0b49463",
   "metadata": {},
   "source": [
    "### 3. Likelihood Gaussian Observation Function"
   ]
  },
  {
   "cell_type": "code",
   "execution_count": 38,
   "id": "311fe63f",
   "metadata": {},
   "outputs": [
    {
     "data": {
      "text/plain": [
       "(tensor(4.9152e-05), tensor(9.0749e-08))"
      ]
     },
     "execution_count": 38,
     "metadata": {},
     "output_type": "execute_result"
    }
   ],
   "source": [
    "#Propuesta2Gracielav1\n",
    "def calculate_likelihood_gaussian_observation(x_n,mu_k,sigma_k):\n",
    "    \n",
    "    p_x1 = prob_density = (1/np.sqrt((2.0*np.pi*sigma_k[0]))) * np.exp(-0.5*((x_n- mu_k[0])/sigma_k[0])**2)\n",
    "    p_x2 = prob_density = (1/np.sqrt((2.0*np.pi*sigma_k[1]))) * np.exp(-0.5*((x_n- mu_k[1])/sigma_k[1])**2) \n",
    "    #p_xAll = torch.Tensor([p_x1,p_x2])\n",
    "    return p_x1,p_x2\n",
    "    \n",
    "calculate_likelihood_gaussian_observation(X_allSamples[0],mu_k=[10,20],sigma_k = [1.5,3])"
   ]
  },
  {
   "cell_type": "code",
   "execution_count": 39,
   "id": "39124cdc",
   "metadata": {},
   "outputs": [
    {
     "data": {
      "text/plain": [
       "(tensor(-42.2729), tensor(-32.4317))"
      ]
     },
     "execution_count": 39,
     "metadata": {},
     "output_type": "execute_result"
    }
   ],
   "source": [
    "#Propuesta2Graciela_conLOG\n",
    "def calculate_likelihood_gaussian_observationLOG(x_n,mu_k1,sigma_k1,mu_k2,sigma_k2):\n",
    "    \n",
    "    p_x1 = prob_density = (1/np.sqrt((2.0*np.pi*sigma_k1))) * np.exp(-0.5*((x_n- mu_k1)/sigma_k1)**2)\n",
    "    logp_x1= np.log(p_x1)\n",
    "    p_x2 = prob_density = (1/np.sqrt((2.0*np.pi*sigma_k2))) * np.exp(-0.5*((x_n- mu_k2)/sigma_k2)**2)\n",
    "    logp_x2 =  np.log(p_x2)\n",
    "    return logp_x1,logp_x2\n",
    "\n",
    "calculate_likelihood_gaussian_observationLOG(X_allSamples[1],mu_k1=10,sigma_k1=1.5,mu_k2=20,sigma_k2=3)"
   ]
  },
  {
   "cell_type": "markdown",
   "id": "c1670a36",
   "metadata": {},
   "source": [
    "### 4. Calculate_membership"
   ]
  },
  {
   "cell_type": "code",
   "execution_count": 29,
   "id": "fd084f2e",
   "metadata": {
    "scrolled": false
   },
   "outputs": [],
   "source": [
    "def calculate_membership_dataset(X_dataset,Parameters_matrix):\n",
    "    #crear una matriz con ceros\n",
    "    N = len(X_dataset)\n",
    "    k = 2\n",
    "    M = torch.zeros((N, k))\n",
    "    \n",
    "    #calculate_likelihood\n",
    "    likelihood1,likelihood2 = calculate_likelihood_gaussian_observation(X_dataset,Parameters_matrix[:,0],Parameters_matrix[:,1])\n",
    "    \n",
    "    #print(\"likelihood2:\", likelihood2.reshape([N, 1]))\n",
    "    likelihoodALL = torch.cat((likelihood1.reshape([N, 1]), likelihood2.reshape([N, 1])), 1)\n",
    "    \n",
    "    M[:,0] = likelihoodALL[:,0] > likelihoodALL[:,1] \n",
    "    M[:,1] = likelihoodALL[:,0] < likelihoodALL[:,1] \n",
    "    \n",
    "    return M\n",
    "\n",
    "#fix_param = torch.tensor([[10,1.5],[20,3]])\n",
    "Membership_Matrix = calculate_membership_dataset(X_allSamples,W_parameters)\n",
    "#Membership_Matrix\n"
   ]
  },
  {
   "cell_type": "markdown",
   "id": "904d2010",
   "metadata": {},
   "source": [
    "## 5. Recalculate_parameters"
   ]
  },
  {
   "cell_type": "code",
   "execution_count": 30,
   "id": "57e8f6de",
   "metadata": {},
   "outputs": [
    {
     "data": {
      "text/plain": [
       "tensor([[ 30.5161,   0.8781],\n",
       "        [ 13.6710, 122.5938]])"
      ]
     },
     "execution_count": 30,
     "metadata": {},
     "output_type": "execute_result"
    }
   ],
   "source": [
    "def recalculate_parameters(X_dataset,Membership_data): \n",
    "    \n",
    "    N = len(X_dataset)   \n",
    "    \n",
    "    X1 = torch.cat((X_dataset.reshape([N, 1]),Membership_data[:,0].reshape([N, 1])),1)\n",
    "    X2 = torch.cat((X_dataset.reshape([N, 1]),Membership_data[:,1].reshape([N, 1])),1)\n",
    "    \n",
    "    X1_filtrada = X1[X1[:,1] == 1][:,0]\n",
    "    X2_filtrada = X2[X2[:,1] == 1][:,0]\n",
    "    \n",
    "    mu_x1 = torch.mean(X1_filtrada)\n",
    "    mu_x2 = torch.mean(X2_filtrada)\n",
    "    \n",
    "    sigma_x1 = torch.var(X1_filtrada)\n",
    "    sigma_x2 = torch.var(X2_filtrada)\n",
    "    \n",
    "    new_W = torch.tensor([[mu_x1,sigma_x1],[mu_x2,sigma_x2]])\n",
    "  \n",
    "    return new_W\n",
    "    \n",
    "recalculate_parameters(X_allSamples,Membership_Matrix)\n",
    "    "
   ]
  },
  {
   "cell_type": "markdown",
   "id": "bf64fecd",
   "metadata": {},
   "source": [
    "### 6. Corridas del Algoritmo"
   ]
  },
  {
   "cell_type": "code",
   "execution_count": 42,
   "id": "1729d603",
   "metadata": {
    "scrolled": false
   },
   "outputs": [
    {
     "name": "stdout",
     "output_type": "stream",
     "text": [
      "Iteration number: 0\n",
      "Parameters values used: tensor([[10,  4],\n",
      "        [ 8,  6]])\n",
      "\n",
      "Iteration number: 1\n",
      "Parameters values used: tensor([[  9.6038,   3.6440],\n",
      "        [ 14.6436, 149.9188]])\n",
      "\n",
      "Iteration number: 2\n",
      "Parameters values used: tensor([[  6.5203,   7.0600],\n",
      "        [ 17.0993, 158.1209]])\n",
      "\n",
      "Iteration number: 3\n",
      "Parameters values used: tensor([[ 3.5576, 20.5789],\n",
      "        [24.4056, 38.5534]])\n",
      "\n",
      "Iteration number: 4\n",
      "Parameters values used: tensor([[ 3.5636, 27.7324],\n",
      "        [25.4738,  8.3683]])\n",
      "\n",
      "Iteration number: 5\n",
      "Parameters values used: tensor([[ 3.1050, 21.2542],\n",
      "        [25.2751,  9.4282]])\n",
      "\n",
      "Iteration number: 6\n",
      "Parameters values used: tensor([[ 3.1050, 21.2542],\n",
      "        [25.2751,  9.4282]])\n",
      "\n",
      "Iteration number: 7\n",
      "Parameters values used: tensor([[ 3.1050, 21.2542],\n",
      "        [25.2751,  9.4282]])\n",
      "\n",
      "Iteration number: 8\n",
      "Parameters values used: tensor([[ 3.1050, 21.2542],\n",
      "        [25.2751,  9.4282]])\n",
      "\n",
      "Iteration number: 9\n",
      "Parameters values used: tensor([[ 3.1050, 21.2542],\n",
      "        [25.2751,  9.4282]])\n",
      "\n",
      "Iteration number: 10\n",
      "Parameters values used: tensor([[ 3.1050, 21.2542],\n",
      "        [25.2751,  9.4282]])\n",
      "\n",
      "Iteration number: 11\n",
      "Parameters values used: tensor([[ 3.1050, 21.2542],\n",
      "        [25.2751,  9.4282]])\n",
      "\n",
      "Iteration number: 12\n",
      "Parameters values used: tensor([[ 3.1050, 21.2542],\n",
      "        [25.2751,  9.4282]])\n",
      "\n",
      "Iteration number: 13\n",
      "Parameters values used: tensor([[ 3.1050, 21.2542],\n",
      "        [25.2751,  9.4282]])\n",
      "\n",
      "Iteration number: 14\n",
      "Parameters values used: tensor([[ 3.1050, 21.2542],\n",
      "        [25.2751,  9.4282]])\n",
      "\n",
      "Iteration number: 15\n",
      "Parameters values used: tensor([[ 3.1050, 21.2542],\n",
      "        [25.2751,  9.4282]])\n",
      "\n",
      "Iteration number: 16\n",
      "Parameters values used: tensor([[ 3.1050, 21.2542],\n",
      "        [25.2751,  9.4282]])\n",
      "\n",
      "Iteration number: 17\n",
      "Parameters values used: tensor([[ 3.1050, 21.2542],\n",
      "        [25.2751,  9.4282]])\n",
      "\n",
      "Iteration number: 18\n",
      "Parameters values used: tensor([[ 3.1050, 21.2542],\n",
      "        [25.2751,  9.4282]])\n",
      "\n",
      "Iteration number: 19\n",
      "Parameters values used: tensor([[ 3.1050, 21.2542],\n",
      "        [25.2751,  9.4282]])\n",
      "\n"
     ]
    },
    {
     "data": {
      "image/png": "[encoded data removed]",
      "text/plain": [
       "<Figure size 432x288 with 1 Axes>"
      ]
     },
     "metadata": {
      "needs_background": "light"
     },
     "output_type": "display_data"
    }
   ],
   "source": [
    "W_parameters = init_random_parameters(K=2, range_mean = [1,50], range_std = [1,10])\n",
    "\n",
    "for i in range(20):\n",
    "    print(\"Iteration number: %s\"%i)\n",
    "    print(\"Parameters values used: %s\\n\"%W_parameters)\n",
    "    new_M = calculate_membership_dataset(X_allSamples,W_parameters)\n",
    "    W_parameters = recalculate_parameters(X_allSamples,new_M)     \n",
    "\n",
    "# Plot Data\n",
    "y = np.zeros_like(X_allSamples)\n",
    "plt.scatter(X_allSamples,y)\n",
    "#plt.title('Plotting)\n",
    "plt.xlabel('X Value')\n",
    "plt.ylabel('PDF')\n",
    "\n",
    "#Plot densities Functions\n",
    "plt.scatter(X1_samples, norm.pdf(X1_samples, W_parameters[0,0], W_parameters[0,1]))\n",
    "plt.scatter(X2_samples, norm.pdf(X2_samples, W_parameters[1,0], W_parameters[1,1]))      \n",
    "\n",
    "plt.show()"
   ]
  },
  {
   "cell_type": "code",
   "execution_count": null,
   "id": "90920bc2",
   "metadata": {},
   "outputs": [],
   "source": []
  },
  {
   "cell_type": "code",
   "execution_count": null,
   "id": "34ed4b6e",
   "metadata": {},
   "outputs": [],
   "source": []
  }
 ],
 "metadata": {
  "kernelspec": {
   "display_name": "Python 3 (ipykernel)",
   "language": "python",
   "name": "python3"
  },
  "language_info": {
   "codemirror_mode": {
    "name": "ipython",
    "version": 3
   },
   "file_extension": ".py",
   "mimetype": "text/x-python",
   "name": "python",
   "nbconvert_exporter": "python",
   "pygments_lexer": "ipython3",
   "version": "3.9.7"
  }
 },
 "nbformat": 4,
 "nbformat_minor": 5
}
