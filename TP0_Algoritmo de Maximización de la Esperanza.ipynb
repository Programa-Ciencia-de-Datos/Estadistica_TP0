{
 "cells": [
  {
   "cell_type": "markdown",
   "id": "d4e6a28f",
   "metadata": {},
   "source": [
    "## Algoritmo de Maximización de la Esperanza\n",
    "#### Estudiantes: Dennis Luna Acuña- Graciela Rivera Picado - Luis Vargas Porras"
   ]
  },
  {
   "cell_type": "markdown",
   "id": "03beed92",
   "metadata": {},
   "source": [
    "### Libraries"
   ]
  },
  {
   "cell_type": "code",
   "execution_count": 1,
   "id": "48fe6486",
   "metadata": {},
   "outputs": [],
   "source": [
    "import torch\n",
    "import matplotlib.pyplot as plt\n",
    "import numpy as np\n",
    "\n",
    "import scipy\n",
    "from scipy.stats import entropy\n",
    "from scipy.stats import norm\n",
    "from torch.distributions import normal\n",
    "from torch.distributions import multivariate_normal\n",
    "from scipy import stats \n",
    "import seaborn as sns "
   ]
  },
  {
   "cell_type": "markdown",
   "id": "b395041e",
   "metadata": {},
   "source": [
    "### 1. Generate data with Gaussian distribution\n",
    "\n",
    "*The data are artificially created with a 2-cluster Gaussian distribution with specific means and variances.*"
   ]
  },
  {
   "cell_type": "code",
   "execution_count": 6,
   "id": "71de967e",
   "metadata": {},
   "outputs": [
    {
     "name": "stdout",
     "output_type": "stream",
     "text": [
      "Samples Class1\n",
      "tensor([ 7.3618,  3.2100, -1.7827, -2.6656, -3.3383,  3.0345,  2.7596, -0.7526,\n",
      "         9.0846,  8.6136,  2.8452,  5.7064,  0.3764,  5.2611, -0.9598, -3.3769,\n",
      "         4.8618, -2.7772,  5.9403,  8.4415,  7.8478, 11.5381,  0.5982, 10.0183,\n",
      "        -0.4056, -4.0930, -0.5977,  3.5046,  5.6636, 13.5921,  8.7169, 12.0419,\n",
      "         9.4185,  8.2916,  5.6332, -1.7837,  3.2640,  4.1988,  4.1799, 10.3605,\n",
      "         3.0977,  0.3709,  2.3617, 10.8614,  0.5340, -3.7223, -3.6204,  2.8938,\n",
      "         0.2817, 11.9006,  5.3808, -2.0198,  2.5980,  5.4877, -0.0565,  6.2875,\n",
      "         8.5808,  0.2852, -5.0087,  4.8597, -0.2918, -4.0411,  8.4371, -1.0108,\n",
      "         9.7426, -0.2285, -3.7732,  1.1113,  3.7869,  7.6301, -6.4854,  2.9152,\n",
      "        -3.5097,  1.4670,  2.5620,  8.7348,  7.7934,  1.8363,  1.1852,  0.0287,\n",
      "        17.2641,  1.4820, -3.5004,  0.9297,  8.7501,  7.2957, -0.5996,  6.7321,\n",
      "         1.7774,  7.2133,  3.9393,  4.3674, -0.9077,  0.5006, -5.4751,  7.9182,\n",
      "         8.9418, -3.0056, -6.8790,  4.2017]) \n",
      "\n",
      "Samples Class2\n",
      "tensor([21.4841, 28.3106, 22.2291, 23.7304, 29.9098, 27.3008, 23.5545, 22.9794,\n",
      "        25.6846, 28.1987, 21.0396, 26.1342, 28.8034, 28.5995, 24.7749, 23.2166,\n",
      "        24.3800, 21.0429, 27.8360, 25.5044, 28.5710, 16.7460, 28.7385, 23.9188,\n",
      "        27.8940, 26.3344, 20.8314, 25.7061, 23.5153, 27.9575, 19.8890, 21.7263,\n",
      "        30.5689, 29.1531, 26.1267, 30.1715, 31.6186, 30.1449, 27.3961, 28.0627,\n",
      "        26.8117, 29.2471, 24.5149, 24.9160, 26.7900, 31.8645, 27.5402, 29.4502,\n",
      "        26.6989, 26.5229, 22.4562, 25.6614, 23.5410, 27.6422, 21.0267, 31.3497,\n",
      "        19.8307, 24.0031, 26.3172, 29.0276, 26.5073, 26.6162, 25.2872, 31.4877,\n",
      "        24.6436, 23.9874, 23.8929, 25.2050, 28.9363, 30.5252, 25.9262, 22.1418,\n",
      "        21.3377, 25.2779, 25.6056, 25.6718, 24.7274, 24.9151, 24.5215, 28.3504,\n",
      "        26.1409, 19.7592, 28.5982, 23.5997, 25.1928, 29.1785, 24.4367, 25.0112,\n",
      "        22.7146, 21.9125, 28.2386, 33.0056, 31.0841, 23.9813, 23.2218, 27.7429,\n",
      "        27.5313, 23.5258, 25.8815, 31.2545]) \n",
      "\n",
      "Samples ALL\n",
      "tensor([ 7.3618e+00,  3.2100e+00, -1.7827e+00, -2.6656e+00, -3.3383e+00,\n",
      "         3.0345e+00,  2.7596e+00, -7.5265e-01,  9.0846e+00,  8.6136e+00,\n",
      "         2.8452e+00,  5.7064e+00,  3.7640e-01,  5.2611e+00, -9.5975e-01,\n",
      "        -3.3769e+00,  4.8618e+00, -2.7772e+00,  5.9403e+00,  8.4415e+00,\n",
      "         7.8478e+00,  1.1538e+01,  5.9815e-01,  1.0018e+01, -4.0556e-01,\n",
      "        -4.0930e+00, -5.9771e-01,  3.5046e+00,  5.6636e+00,  1.3592e+01,\n",
      "         8.7169e+00,  1.2042e+01,  9.4185e+00,  8.2916e+00,  5.6332e+00,\n",
      "        -1.7837e+00,  3.2640e+00,  4.1988e+00,  4.1799e+00,  1.0361e+01,\n",
      "         3.0977e+00,  3.7087e-01,  2.3617e+00,  1.0861e+01,  5.3400e-01,\n",
      "        -3.7223e+00, -3.6204e+00,  2.8938e+00,  2.8168e-01,  1.1901e+01,\n",
      "         5.3808e+00, -2.0198e+00,  2.5980e+00,  5.4877e+00, -5.6460e-02,\n",
      "         6.2875e+00,  8.5808e+00,  2.8521e-01, -5.0087e+00,  4.8597e+00,\n",
      "        -2.9179e-01, -4.0411e+00,  8.4371e+00, -1.0108e+00,  9.7426e+00,\n",
      "        -2.2848e-01, -3.7732e+00,  1.1113e+00,  3.7869e+00,  7.6301e+00,\n",
      "        -6.4854e+00,  2.9152e+00, -3.5097e+00,  1.4670e+00,  2.5620e+00,\n",
      "         8.7348e+00,  7.7934e+00,  1.8363e+00,  1.1852e+00,  2.8708e-02,\n",
      "         1.7264e+01,  1.4820e+00, -3.5004e+00,  9.2972e-01,  8.7501e+00,\n",
      "         7.2957e+00, -5.9956e-01,  6.7321e+00,  1.7774e+00,  7.2133e+00,\n",
      "         3.9393e+00,  4.3674e+00, -9.0766e-01,  5.0064e-01, -5.4751e+00,\n",
      "         7.9182e+00,  8.9418e+00, -3.0056e+00, -6.8790e+00,  4.2017e+00,\n",
      "         2.1484e+01,  2.8311e+01,  2.2229e+01,  2.3730e+01,  2.9910e+01,\n",
      "         2.7301e+01,  2.3555e+01,  2.2979e+01,  2.5685e+01,  2.8199e+01,\n",
      "         2.1040e+01,  2.6134e+01,  2.8803e+01,  2.8600e+01,  2.4775e+01,\n",
      "         2.3217e+01,  2.4380e+01,  2.1043e+01,  2.7836e+01,  2.5504e+01,\n",
      "         2.8571e+01,  1.6746e+01,  2.8738e+01,  2.3919e+01,  2.7894e+01,\n",
      "         2.6334e+01,  2.0831e+01,  2.5706e+01,  2.3515e+01,  2.7957e+01,\n",
      "         1.9889e+01,  2.1726e+01,  3.0569e+01,  2.9153e+01,  2.6127e+01,\n",
      "         3.0171e+01,  3.1619e+01,  3.0145e+01,  2.7396e+01,  2.8063e+01,\n",
      "         2.6812e+01,  2.9247e+01,  2.4515e+01,  2.4916e+01,  2.6790e+01,\n",
      "         3.1864e+01,  2.7540e+01,  2.9450e+01,  2.6699e+01,  2.6523e+01,\n",
      "         2.2456e+01,  2.5661e+01,  2.3541e+01,  2.7642e+01,  2.1027e+01,\n",
      "         3.1350e+01,  1.9831e+01,  2.4003e+01,  2.6317e+01,  2.9028e+01,\n",
      "         2.6507e+01,  2.6616e+01,  2.5287e+01,  3.1488e+01,  2.4644e+01,\n",
      "         2.3987e+01,  2.3893e+01,  2.5205e+01,  2.8936e+01,  3.0525e+01,\n",
      "         2.5926e+01,  2.2142e+01,  2.1338e+01,  2.5278e+01,  2.5606e+01,\n",
      "         2.5672e+01,  2.4727e+01,  2.4915e+01,  2.4522e+01,  2.8350e+01,\n",
      "         2.6141e+01,  1.9759e+01,  2.8598e+01,  2.3600e+01,  2.5193e+01,\n",
      "         2.9178e+01,  2.4437e+01,  2.5011e+01,  2.2715e+01,  2.1913e+01,\n",
      "         2.8239e+01,  3.3006e+01,  3.1084e+01,  2.3981e+01,  2.3222e+01,\n",
      "         2.7743e+01,  2.7531e+01,  2.3526e+01,  2.5882e+01,  3.1255e+01])\n"
     ]
    },
    {
     "data": {
      "image/png": "[encoded data removed]",
      "text/plain": [
       "<Figure size 432x288 with 1 Axes>"
      ]
     },
     "metadata": {
      "needs_background": "light"
     },
     "output_type": "display_data"
    },
    {
     "data": {
      "text/plain": [
       "tensor([ 7.3618e+00,  3.2100e+00, -1.7827e+00, -2.6656e+00, -3.3383e+00,\n",
       "         3.0345e+00,  2.7596e+00, -7.5265e-01,  9.0846e+00,  8.6136e+00,\n",
       "         2.8452e+00,  5.7064e+00,  3.7640e-01,  5.2611e+00, -9.5975e-01,\n",
       "        -3.3769e+00,  4.8618e+00, -2.7772e+00,  5.9403e+00,  8.4415e+00,\n",
       "         7.8478e+00,  1.1538e+01,  5.9815e-01,  1.0018e+01, -4.0556e-01,\n",
       "        -4.0930e+00, -5.9771e-01,  3.5046e+00,  5.6636e+00,  1.3592e+01,\n",
       "         8.7169e+00,  1.2042e+01,  9.4185e+00,  8.2916e+00,  5.6332e+00,\n",
       "        -1.7837e+00,  3.2640e+00,  4.1988e+00,  4.1799e+00,  1.0361e+01,\n",
       "         3.0977e+00,  3.7087e-01,  2.3617e+00,  1.0861e+01,  5.3400e-01,\n",
       "        -3.7223e+00, -3.6204e+00,  2.8938e+00,  2.8168e-01,  1.1901e+01,\n",
       "         5.3808e+00, -2.0198e+00,  2.5980e+00,  5.4877e+00, -5.6460e-02,\n",
       "         6.2875e+00,  8.5808e+00,  2.8521e-01, -5.0087e+00,  4.8597e+00,\n",
       "        -2.9179e-01, -4.0411e+00,  8.4371e+00, -1.0108e+00,  9.7426e+00,\n",
       "        -2.2848e-01, -3.7732e+00,  1.1113e+00,  3.7869e+00,  7.6301e+00,\n",
       "        -6.4854e+00,  2.9152e+00, -3.5097e+00,  1.4670e+00,  2.5620e+00,\n",
       "         8.7348e+00,  7.7934e+00,  1.8363e+00,  1.1852e+00,  2.8708e-02,\n",
       "         1.7264e+01,  1.4820e+00, -3.5004e+00,  9.2972e-01,  8.7501e+00,\n",
       "         7.2957e+00, -5.9956e-01,  6.7321e+00,  1.7774e+00,  7.2133e+00,\n",
       "         3.9393e+00,  4.3674e+00, -9.0766e-01,  5.0064e-01, -5.4751e+00,\n",
       "         7.9182e+00,  8.9418e+00, -3.0056e+00, -6.8790e+00,  4.2017e+00,\n",
       "         2.1484e+01,  2.8311e+01,  2.2229e+01,  2.3730e+01,  2.9910e+01,\n",
       "         2.7301e+01,  2.3555e+01,  2.2979e+01,  2.5685e+01,  2.8199e+01,\n",
       "         2.1040e+01,  2.6134e+01,  2.8803e+01,  2.8600e+01,  2.4775e+01,\n",
       "         2.3217e+01,  2.4380e+01,  2.1043e+01,  2.7836e+01,  2.5504e+01,\n",
       "         2.8571e+01,  1.6746e+01,  2.8738e+01,  2.3919e+01,  2.7894e+01,\n",
       "         2.6334e+01,  2.0831e+01,  2.5706e+01,  2.3515e+01,  2.7957e+01,\n",
       "         1.9889e+01,  2.1726e+01,  3.0569e+01,  2.9153e+01,  2.6127e+01,\n",
       "         3.0171e+01,  3.1619e+01,  3.0145e+01,  2.7396e+01,  2.8063e+01,\n",
       "         2.6812e+01,  2.9247e+01,  2.4515e+01,  2.4916e+01,  2.6790e+01,\n",
       "         3.1864e+01,  2.7540e+01,  2.9450e+01,  2.6699e+01,  2.6523e+01,\n",
       "         2.2456e+01,  2.5661e+01,  2.3541e+01,  2.7642e+01,  2.1027e+01,\n",
       "         3.1350e+01,  1.9831e+01,  2.4003e+01,  2.6317e+01,  2.9028e+01,\n",
       "         2.6507e+01,  2.6616e+01,  2.5287e+01,  3.1488e+01,  2.4644e+01,\n",
       "         2.3987e+01,  2.3893e+01,  2.5205e+01,  2.8936e+01,  3.0525e+01,\n",
       "         2.5926e+01,  2.2142e+01,  2.1338e+01,  2.5278e+01,  2.5606e+01,\n",
       "         2.5672e+01,  2.4727e+01,  2.4915e+01,  2.4522e+01,  2.8350e+01,\n",
       "         2.6141e+01,  1.9759e+01,  2.8598e+01,  2.3600e+01,  2.5193e+01,\n",
       "         2.9178e+01,  2.4437e+01,  2.5011e+01,  2.2715e+01,  2.1913e+01,\n",
       "         2.8239e+01,  3.3006e+01,  3.1084e+01,  2.3981e+01,  2.3222e+01,\n",
       "         2.7743e+01,  2.7531e+01,  2.3526e+01,  2.5882e+01,  3.1255e+01])"
      ]
     },
     "execution_count": 6,
     "metadata": {},
     "output_type": "execute_result"
    }
   ],
   "source": [
    "def createDataOneClass(means, std, numberSamplesPerClass):\n",
    "    normal_dist = torch.distributions.Normal(means,std)\n",
    "    gaussian_sample = normal_dist.sample((numberSamplesPerClass,1)).squeeze()\n",
    "    \n",
    "    return gaussian_sample\n",
    "\n",
    "\n",
    "def generate_data(numberSamplesPerClass, mean1, mean2 , stds1 , stds2 ):\n",
    "    \"\"\"\n",
    "    Creates the data to be used for training, using a GMM distribution\n",
    "    @param numberSamplesPerClass, the number of samples per class\n",
    "    @param mean1, means for samples from the class 1\n",
    "    @param mean2, means for samples from the class 2\n",
    "    @param stds1, standard deviation for samples, class 1\n",
    "    @param stds2, standard deviation for samples, class 2    \"\"\"\n",
    "\n",
    "    samplesClass1 = createDataOneClass(mean1, stds1, numberSamplesPerClass)\n",
    "    samplesClass2 = createDataOneClass(mean2, stds2, numberSamplesPerClass)\n",
    "    #Concatenates\n",
    "    samplesAll = torch.cat((samplesClass1, samplesClass2), 0)\n",
    "\n",
    "    # Plot Data\n",
    "    y = np.zeros_like(samplesAll)\n",
    "    plt.scatter(samplesAll,y)\n",
    "    #plt.title('Plotting)\n",
    "    plt.xlabel('X Value')\n",
    "    plt.ylabel('PDF')\n",
    "\n",
    "    #Plot densities Functions\n",
    "    plt.scatter(samplesClass1, norm.pdf(samplesClass1, mean1, stds1))\n",
    "    plt.scatter(samplesClass2, norm.pdf(samplesClass2, mean2, stds2))      \n",
    "    \n",
    "    plt.show()\n",
    "    \n",
    "    return (samplesAll)\n",
    "\n",
    "'''\n",
    "Creates data with gaussian distribution\n",
    "'''\n",
    "\n",
    "#Call Function generate Data\n",
    "generate_data(numberSamplesPerClass=100, mean1=3.0, mean2=26.0, stds1=5.0, stds2=3.0)\n",
    "\n",
    "#Hacer grafico donde x sean los datos y y las densidades(En proceso)."
   ]
  },
  {
   "cell_type": "markdown",
   "id": "74ffb379",
   "metadata": {},
   "source": [
    "### 2. Create init_random_parameters"
   ]
  },
  {
   "cell_type": "code",
   "execution_count": 154,
   "id": "1b8a9367",
   "metadata": {},
   "outputs": [
    {
     "data": {
      "text/plain": [
       "tensor([[57,  8],\n",
       "        [17,  5]])"
      ]
     },
     "execution_count": 154,
     "metadata": {},
     "output_type": "execute_result"
    }
   ],
   "source": [
    "def init_random_parameters(K=2, range_mean = [1,10], range_std = [1,5]):\n",
    "    \n",
    "    np.random.seed(2)    \n",
    "    \n",
    "    mean = torch.randint(range_mean[0],range_mean[1],(K,1))\n",
    "    std  = torch.randint(range_std[0], range_std[1],(K,1))  \n",
    "    \n",
    "    W = torch.cat((mean, std), 1)\n",
    "    \n",
    "    return W\n",
    "\n",
    "#test\n",
    "\n",
    "init_random_parameters(K=2, range_mean = [1,100], range_std = [1,10])"
   ]
  },
  {
   "cell_type": "markdown",
   "id": "c0b49463",
   "metadata": {},
   "source": [
    "### 3. Likelihood Gaussian Observation Function"
   ]
  },
  {
   "cell_type": "code",
   "execution_count": 188,
   "id": "456fa40b",
   "metadata": {},
   "outputs": [
    {
     "name": "stdout",
     "output_type": "stream",
     "text": [
      "tensor([-860.9399])\n"
     ]
    }
   ],
   "source": [
    "def calculate_likelihood_gaussian_observation(x_n, mu_1,mu_2,sigma_1,sigma_2):\n",
    "    \n",
    "    sample1=createDataOneClass(mu_1, sigma_1, x_n)\n",
    "    sample2=createDataOneClass(mu_2, sigma_2, x_n)\n",
    "    \n",
    "    \n",
    "    \n",
    "    h_n=torch.cat((sample1, sample2), 0)\n",
    "    \n",
    "    s_l1=(torch.sub(h_n,mu_1))**2\n",
    "    \n",
    "    s_l2=(torch.sub(h_n,mu_2))**2\n",
    "    \n",
    "    #select_elements_l1=s_l1[b:x_n+b]\n",
    "    \n",
    "    select_elements_l1=s_l1[0:x_n]\n",
    "    \n",
    "    select_elements_l2=s_l2[0:x_n]\n",
    "    \n",
    "    \n",
    "    pi = torch.tensor([np.pi])             \n",
    "    \n",
    "    sum_l1=torch.sum(select_elements_l1)\n",
    "    \n",
    "    sum_l2=torch.sum(select_elements_l2)\n",
    "    \n",
    "    sigma_1_inverso= -1 * (1 / (2 *((sigma_1)**2)))\n",
    "    \n",
    "    sigma_2_inverso= -1 * (1 / (2 *((sigma_2)**2)))\n",
    "    \n",
    "    \n",
    "    # Superposition Principle \n",
    "    \n",
    "    c1=(sigma_1_inverso * sum_l1) + (sigma_2_inverso * sum_l2)\n",
    "    \n",
    "    c2= ((x_n/2) * torch.log(2*pi))\n",
    "    \n",
    "    c3=(x_n*torch.log(torch.tensor([sigma_1]))) +  (x_n*torch.log(torch.tensor([sigma_2]))) \n",
    "    \n",
    "  # likelihood_1 = (sigma_1_inverso * sum_l1) - ((x_n/2) * torch.log(2*pi)) - (x_n*torch.log(torch.tensor([sigma_1]))) \n",
    "    \n",
    "\n",
    "   # likelihood_2 = (sigma_2_inverso * sum_l2) - ((x_n/2) * torch.log(2*pi)) - (x_n*torch.log(torch.tensor([sigma_2]))) \n",
    "    \n",
    "    likelihood= c1-c2-c3\n",
    "    \n",
    "    print(likelihood)\n",
    "   # print(select_elements_l2.shape)\n",
    "    \n",
    "    \n",
    "    \n",
    "calculate_likelihood_gaussian_observation(x_n=100,mu_1=10,mu_2=20,sigma_1=1.5,sigma_2=3)"
   ]
  },
  {
   "cell_type": "code",
   "execution_count": null,
   "id": "1215d543",
   "metadata": {},
   "outputs": [],
   "source": []
  }
 ],
 "metadata": {
  "kernelspec": {
   "display_name": "Python 3 (ipykernel)",
   "language": "python",
   "name": "python3"
  },
  "language_info": {
   "codemirror_mode": {
    "name": "ipython",
    "version": 3
   },
   "file_extension": ".py",
   "mimetype": "text/x-python",
   "name": "python",
   "nbconvert_exporter": "python",
   "pygments_lexer": "ipython3",
   "version": "3.9.12"
  }
 },
 "nbformat": 4,
 "nbformat_minor": 5
}
