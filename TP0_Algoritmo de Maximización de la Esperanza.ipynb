{
 "cells": [
  {
   "cell_type": "markdown",
   "id": "d4e6a28f",
   "metadata": {},
   "source": [
    "## Algoritmo de Maximización de la Esperanza\n",
    "#### Estudiantes: Dennis Luna Acuña- Graciela Rivera Picado - Luis Vargas Porras"
   ]
  },
  {
   "cell_type": "markdown",
   "id": "03beed92",
   "metadata": {},
   "source": [
    "### 1. Libraries"
   ]
  },
  {
   "cell_type": "code",
   "execution_count": 4,
   "id": "48fe6486",
   "metadata": {},
   "outputs": [],
   "source": [
    "import torch\n",
    "import matplotlib.pyplot as plt\n",
    "import numpy as np\n",
    "\n",
    "import scipy\n",
    "from scipy.stats import entropy\n",
    "from scipy.stats import norm\n",
    "from torch.distributions import normal\n",
    "from torch.distributions import multivariate_normal\n",
    "from scipy import stats \n",
    "import seaborn as sns "
   ]
  },
  {
   "cell_type": "markdown",
   "id": "b395041e",
   "metadata": {},
   "source": [
    "### 2. Generate data with Gaussian distribution\n",
    "\n",
    "*The data are artificially created with a 2-cluster Gaussian distribution with specific means and variances.*"
   ]
  },
  {
   "cell_type": "code",
   "execution_count": 21,
   "id": "71de967e",
   "metadata": {},
   "outputs": [
    {
     "data": {
      "image/png": "[encoded data removed]",
      "text/plain": [
       "<Figure size 432x288 with 1 Axes>"
      ]
     },
     "metadata": {
      "needs_background": "light"
     },
     "output_type": "display_data"
    },
    {
     "data": {
      "text/plain": [
       "tensor([ 2.9696e+00,  3.6617e+00,  1.0736e+01, -3.3588e+00, -3.5316e+00,\n",
       "         1.0455e+01,  4.3324e+00, -6.4178e-03,  1.7307e+00,  7.3108e+00,\n",
       "         9.5351e+00,  1.2450e+01,  3.7801e+00, -6.5039e-01, -6.2137e+00,\n",
       "         5.8228e+00, -2.6195e+00, -1.6473e+00, -1.6767e+00, -2.7091e+00,\n",
       "         1.5477e+00, -9.5393e-01,  3.8429e+00,  2.0117e+00,  3.9749e+00,\n",
       "        -8.6238e+00,  5.8992e+00,  1.1997e+01,  2.2221e+00, -1.5596e+00,\n",
       "         2.8640e+00, -9.1560e-01,  5.6341e+00, -5.9845e+00,  6.7236e+00,\n",
       "         2.3948e-01,  2.7113e+00,  9.4943e+00,  1.3613e+00, -2.1375e+00,\n",
       "         1.0398e+01, -1.2871e+00,  3.9117e+00,  2.1774e+00,  6.2153e+00,\n",
       "         1.0472e+00,  9.6344e+00,  1.1766e+01, -3.1160e+00,  1.1551e+00,\n",
       "        -2.0335e+00, -9.7683e-01,  1.7355e+00,  1.9326e+00,  4.1296e+00,\n",
       "        -8.5708e+00, -3.9086e-01,  8.6876e+00,  5.7155e-02,  2.7758e+00,\n",
       "        -1.1905e+00, -3.5801e+00,  4.9904e+00,  5.4162e+00,  9.3481e+00,\n",
       "         4.0263e+00, -3.3287e+00, -2.5843e+00, -5.0398e+00,  1.8828e+00,\n",
       "         2.9035e+00,  1.7570e+00, -2.1420e+00, -5.2528e+00,  5.0407e+00,\n",
       "        -5.5916e+00,  5.0333e+00,  1.1796e+01,  1.0994e+01,  3.5684e+00,\n",
       "         7.0216e+00, -2.4839e+00,  1.2297e+01,  6.4797e+00, -8.9017e-02,\n",
       "         5.7929e+00,  4.8503e+00, -7.5181e-01,  5.2562e-01, -4.3477e+00,\n",
       "        -7.1556e+00,  6.2318e+00,  4.9725e+00, -9.3807e-01,  1.8757e+00,\n",
       "         6.5940e+00,  2.4539e-01, -4.5652e+00,  8.8337e+00,  7.3954e+00,\n",
       "         2.6664e+01,  2.6112e+01,  2.1801e+01,  2.7960e+01,  2.5319e+01,\n",
       "         3.0886e+01,  3.0299e+01,  2.8766e+01,  2.5940e+01,  3.3675e+01,\n",
       "         2.5707e+01,  2.3377e+01,  2.5858e+01,  2.9297e+01,  2.7559e+01,\n",
       "         2.5576e+01,  2.5107e+01,  2.5998e+01,  2.1865e+01,  2.7866e+01,\n",
       "         2.7067e+01,  2.1369e+01,  3.2023e+01,  2.3702e+01,  2.2704e+01,\n",
       "         2.6885e+01,  2.6937e+01,  2.6133e+01,  2.5406e+01,  2.4009e+01,\n",
       "         1.8462e+01,  3.1184e+01,  2.5822e+01,  2.3525e+01,  2.1517e+01,\n",
       "         2.1752e+01,  2.3944e+01,  3.0727e+01,  2.5413e+01,  2.8277e+01,\n",
       "         2.8477e+01,  2.2598e+01,  2.7587e+01,  2.9095e+01,  3.0585e+01,\n",
       "         2.5000e+01,  2.9043e+01,  2.4708e+01,  2.2107e+01,  2.6362e+01,\n",
       "         2.2373e+01,  2.8407e+01,  2.7347e+01,  2.0216e+01,  2.8502e+01,\n",
       "         2.5038e+01,  2.4664e+01,  2.5387e+01,  2.4023e+01,  3.3812e+01,\n",
       "         2.1083e+01,  2.6177e+01,  2.6830e+01,  2.8552e+01,  2.5938e+01,\n",
       "         2.2528e+01,  3.0800e+01,  2.7744e+01,  2.8178e+01,  3.0728e+01,\n",
       "         2.5075e+01,  2.2044e+01,  2.5094e+01,  2.4676e+01,  3.2736e+01,\n",
       "         3.1837e+01,  2.3408e+01,  2.4636e+01,  2.7617e+01,  2.7771e+01,\n",
       "         2.7882e+01,  2.3996e+01,  3.3477e+01,  2.7204e+01,  2.6126e+01,\n",
       "         3.1738e+01,  2.6309e+01,  2.4277e+01,  2.8341e+01,  2.7491e+01,\n",
       "         2.6751e+01,  2.8418e+01,  2.6676e+01,  2.5462e+01,  2.4794e+01,\n",
       "         2.6818e+01,  2.0926e+01,  2.7775e+01,  2.4979e+01,  2.4063e+01])"
      ]
     },
     "execution_count": 21,
     "metadata": {},
     "output_type": "execute_result"
    }
   ],
   "source": [
    "def generate_data(numberSamplesPerClass, mean1, mean2 , stds1 , stds2 ):\n",
    "    \"\"\"\n",
    "    Creates the data to be used for training, using a GMM distribution\n",
    "    @param numberSamplesPerClass, the number of samples per class\n",
    "    @param mean1, means for samples from the class 1\n",
    "    @param mean2, means for samples from the class 2\n",
    "    @param stds1, standard deviation for samples, class 1\n",
    "    @param stds2, standard deviation for samples, class 2    \"\"\"\n",
    "\n",
    "    samplesClass1 = createDataOneClass(mean1, stds1, numberSamplesPerClass)\n",
    "    samplesClass2 = createDataOneClass(mean2, stds2, numberSamplesPerClass)\n",
    "    #Concatenates\n",
    "    samplesAll = torch.cat((samplesClass1, samplesClass2), 0)\n",
    "    # Plot Data\n",
    "    y = np.zeros_like(samplesAll)\n",
    "    plt.scatter(samplesAll,y)\n",
    "    #plt.title('Plotting)\n",
    "    plt.xlabel('X Value')\n",
    "    plt.ylabel('PDF')\n",
    "\n",
    "    #Plot densities Functions\n",
    "    plt.scatter(samplesClass1, norm.pdf(samplesClass1, mean1, stds1))\n",
    "    plt.scatter(samplesClass2, norm.pdf(samplesClass2, mean2, stds2))      \n",
    "    \n",
    "    plt.show()\n",
    "    \n",
    "    return (samplesAll)\n",
    "\n",
    "'''\n",
    "Creates data with gaussian distribution\n",
    "'''\n",
    "def createDataOneClass(means, std, numberSamplesPerClass):\n",
    "    normal_dist = torch.distributions.Normal(means,std)\n",
    "    gaussian_sample = normal_dist.sample((numberSamplesPerClass,1)).squeeze()\n",
    "    \n",
    "    return gaussian_sample\n",
    "\n",
    "#Prueba\n",
    "generate_data(numberSamplesPerClass=100, mean1=3.0, mean2=26.0, stds1=5.0, stds2=3.0)\n",
    "\n",
    "#Hacer grafico donde x sean los datos y y las densidades(En proceso)."
   ]
  },
  {
   "cell_type": "markdown",
   "id": "74ffb379",
   "metadata": {},
   "source": [
    "titulo:## 3. Create init_random_parameters"
   ]
  },
  {
   "cell_type": "code",
   "execution_count": null,
   "id": "1b8a9367",
   "metadata": {},
   "outputs": [],
   "source": [
    "def init_random_parameters(K=2, range_mean = [1,10], range_std = [1,5]):\n",
    "    \n",
    "    np.random.seed(2)    \n",
    "    \n",
    "    mean = torch.randint(range_mean[0],range_mean[1],(K,1))\n",
    "    std  = torch.randint(range_std[0], range_std[1],(K,1))  \n",
    "    \n",
    "    W = torch.cat((mean, std), 1)\n",
    "    \n",
    "    return W\n",
    "\n",
    "#test\n",
    "\n",
    "init_random_parameters(K=2, range_mean = [1,100], range_std = [1,10])"
   ]
  }
 ],
 "metadata": {
  "kernelspec": {
   "display_name": "Python 3 (ipykernel)",
   "language": "python",
   "name": "python3"
  },
  "language_info": {
   "codemirror_mode": {
    "name": "ipython",
    "version": 3
   },
   "file_extension": ".py",
   "mimetype": "text/x-python",
   "name": "python",
   "nbconvert_exporter": "python",
   "pygments_lexer": "ipython3",
   "version": "3.9.7"
  }
 },
 "nbformat": 4,
 "nbformat_minor": 5
}
