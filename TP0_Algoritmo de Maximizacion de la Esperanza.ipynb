{
 "cells": [
  {
   "cell_type": "markdown",
   "id": "d4e6a28f",
   "metadata": {},
   "source": [
    "## Algoritmo de Maximización de la Esperanza\n",
    "#### Estudiantes: Dennis Luna Acuña- Graciela Rivera Picado - Luis E. Vargas Porras"
   ]
  },
  {
   "cell_type": "markdown",
   "id": "03beed92",
   "metadata": {},
   "source": [
    "### Libraries"
   ]
  },
  {
   "cell_type": "code",
   "execution_count": 9,
   "id": "48fe6486",
   "metadata": {},
   "outputs": [],
   "source": [
    "import torch\n",
    "import matplotlib.pyplot as plt\n",
    "import numpy as np\n",
    "import random\n",
    "\n",
    "import scipy\n",
    "from scipy.stats import entropy\n",
    "from scipy.stats import norm\n",
    "from torch.distributions import normal\n",
    "from torch.distributions import multivariate_normal\n",
    "from scipy import stats \n",
    "import seaborn as sns \n",
    "\n",
    "#from sklearn.cluster import KMeans\n",
    "#\"from sklearn import metrics\n",
    "#from scipy.spatial.distance import cdist\n",
    "\n",
    "from scipy.special import logsumexp"
   ]
  },
  {
   "cell_type": "markdown",
   "id": "b395041e",
   "metadata": {},
   "source": [
    "### 1. Generate data with Gaussian distribution\n",
    "\n",
    "*The data are artificially created with a 2-cluster Gaussian distribution with specific means and variances.*"
   ]
  },
  {
   "cell_type": "code",
   "execution_count": 10,
   "id": "71de967e",
   "metadata": {},
   "outputs": [
    {
     "data": {
      "image/png": "[encoded data removed]",
      "text/plain": [
       "<Figure size 864x576 with 1 Axes>"
      ]
     },
     "metadata": {
      "needs_background": "light"
     },
     "output_type": "display_data"
    }
   ],
   "source": [
    "def createDataOneClass(means, std, numberSamplesPerClass):\n",
    "    normal_dist = torch.distributions.Normal(means,std)\n",
    "    gaussian_sample = normal_dist.sample((numberSamplesPerClass,1)).squeeze()\n",
    "    \n",
    "    return gaussian_sample\n",
    "\n",
    "\n",
    "def generate_data(numberSamplesPerClass, mean1, mean2 , stds1 , stds2 ):\n",
    "    \"\"\"\n",
    "    Creates the data to be used for training, using a GMM distribution\n",
    "    @param numberSamplesPerClass, the number of samples per class\n",
    "    @param mean1, means for samples from the class 1\n",
    "    @param mean2, means for samples from the class 2\n",
    "    @param stds1, standard deviation for samples, class 1\n",
    "    @param stds2, standard deviation for samples, class 2    \"\"\"\n",
    "\n",
    "    samplesClass1 = createDataOneClass(mean1, stds1, numberSamplesPerClass)\n",
    "    samplesClass2 = createDataOneClass(mean2, stds2, numberSamplesPerClass)\n",
    "    #Concatenates\n",
    "    samplesAll = torch.cat((samplesClass1, samplesClass2), 0)\n",
    "    \n",
    "    # Plot Data\n",
    "    y = np.zeros_like(samplesAll)\n",
    "    plt.figure(figsize=(12,8)) \n",
    "    plt.scatter(samplesAll, y, label='Observations')\n",
    "    #plt.title('Plotting)\n",
    "    plt.xlabel('X Value')\n",
    "    plt.ylabel('PDF')\n",
    "    \n",
    "    plt.title(\"µ1=%s, σ1=%s, µ2=%s, σ2=%s\"%(mean1, stds1, mean2, stds2))\n",
    "    plt.xlabel('X Value')\n",
    "    plt.ylabel('PDF')\n",
    "\n",
    "\n",
    "    #Plot densities Functions\n",
    "    plt.scatter(samplesClass1, norm.pdf(samplesClass1, mean1, stds1), color=\"green\", label='Original Bi-Gaussian')\n",
    "    plt.scatter(samplesClass2, norm.pdf(samplesClass2, mean2, stds2), color=\"green\")\n",
    "    plt.legend()\n",
    "    plt.show()\n",
    "\n",
    "    \n",
    "    return (samplesAll, samplesClass1, samplesClass2)\n",
    "\n",
    "'''\n",
    "Creates data with gaussian distribution\n",
    "'''\n",
    "\n",
    "#Call Function generate Data\n",
    "X_allSamples, X1_samples, X2_samples = generate_data(numberSamplesPerClass=100, mean1=10.0, mean2=20.0, stds1=1.5, stds2=3.0)\n",
    "\n"
   ]
  },
  {
   "cell_type": "markdown",
   "id": "74ffb379",
   "metadata": {},
   "source": [
    "### 2. Create init_random_parameters"
   ]
  },
  {
   "cell_type": "code",
   "execution_count": 11,
   "id": "1b8a9367",
   "metadata": {},
   "outputs": [
    {
     "data": {
      "text/plain": [
       "tensor([[25,  9],\n",
       "        [20,  1]])"
      ]
     },
     "execution_count": 11,
     "metadata": {},
     "output_type": "execute_result"
    }
   ],
   "source": [
    "def init_random_parameters(K=2, range_mean = [1,10], range_std = [1,5]):\n",
    "      \n",
    "    # Se pasan por por parámetro el rango donde se elegiran de manera aleatoria los valores. \n",
    "    # K2 corresponde a la forma matricial para el acomodo de los elementos, en este caso las columna 0 de la matriz\n",
    "    # corresponden a los means y la columna 1 a los sigma. \n",
    "    \n",
    "    \n",
    "    mean = torch.randint(range_mean[0],range_mean[1],(K,1))   # Creación de arreglo de tensores que contiene los means o mu\n",
    "    std  = torch.randint(range_std[0], range_std[1],(K,1))    # Creación de arreglo de tensores que contiene los sigma\n",
    "\n",
    "    \n",
    "    W = torch.cat((mean, std), 1)\n",
    "    \n",
    "    g= W.numpy()  \n",
    "    \n",
    "    # Se procede a realizar la graficación para comprobar su funcionamiento\n",
    "    \n",
    "    #numberSamplesPerClass=100\n",
    "    #mean1=g[0,0]\n",
    "    #mean2=g[1,0]\n",
    "    #stds1=g[0,1]\n",
    "    #stds2=g[1,1]\n",
    "    \n",
    "    #samplesClass1 = createDataOneClass(mean1, stds1, numberSamplesPerClass)\n",
    "    #samplesClass2 = createDataOneClass(mean2, stds2, numberSamplesPerClass)\n",
    "    #Concatenates\n",
    "    #samplesAll = torch.cat((samplesClass1, samplesClass2), 0)\n",
    "\n",
    "    \n",
    "    \n",
    "    #y = np.zeros_like(samplesAll)\n",
    "    #plt.figure(figsize=(12,8)) \n",
    "          \n",
    "    #plt.scatter(samplesAll, y, marker='.', label=\"Observations\")\n",
    "    #mu1 = round(g[0,0].item(),2)\n",
    "    #mu2 = round(g[1,0].item(),2)\n",
    "    #sig1 = round(g[0,1].item(),2)\n",
    "    #sig2 = round(g[1,1].item(),2)\n",
    "\n",
    "    #plt.title(\"µ1=%s, σ1=%s, µ2=%s, σ2=%s\"%(mu1, sig1, mu2, sig2))\n",
    "    #plt.xlabel('X Value')\n",
    "    #plt.ylabel('PDF')\n",
    "\n",
    "    #Plot densities Functions\n",
    "    #plt.scatter(samplesClass1, norm.pdf(samplesClass1, mean1, stds1), color='green', label='Original Bi-Gaussian')\n",
    "    #plt.scatter(samplesClass2, norm.pdf(samplesClass2, mean2, stds2), color='green') \n",
    " \n",
    "    #plt.legend()\n",
    "    #plt.show()\n",
    "    \n",
    "    \n",
    "    return W\n",
    "\n",
    "#Test\n",
    "\n",
    "W_parameters = init_random_parameters(K=2, range_mean = [1,50], range_std = [1,10])\n",
    "W_parameters\n"
   ]
  },
  {
   "cell_type": "markdown",
   "id": "c0b49463",
   "metadata": {},
   "source": [
    "### 3. Likelihood Gaussian Observation Function"
   ]
  },
  {
   "cell_type": "code",
   "execution_count": 12,
   "id": "311fe63f",
   "metadata": {},
   "outputs": [
    {
     "data": {
      "text/plain": [
       "(tensor(0.3224), tensor(0.0007))"
      ]
     },
     "execution_count": 12,
     "metadata": {},
     "output_type": "execute_result"
    }
   ],
   "source": [
    "# Likelihood sin inserción de logaritmo\n",
    "def calculate_likelihood_gaussian_observation(x_n,mu_k,sigma_k):\n",
    "    \n",
    "    p_x1 = prob_density = (1/np.sqrt((2.0*np.pi*sigma_k[0]))) * np.exp(-0.5*((x_n-mu_k[0])/sigma_k[0])**2)\n",
    "    p_x2 = prob_density = (1/np.sqrt((2.0*np.pi*sigma_k[1]))) * np.exp(-0.5*((x_n-mu_k[1])/sigma_k[1])**2) \n",
    "    #p_xAll = torch.Tensor([p_x1,p_x2])\n",
    "    return p_x1,p_x2\n",
    "    \n",
    "calculate_likelihood_gaussian_observation(X_allSamples[0], mu_k = [10,20], sigma_k = [1.5,3])"
   ]
  },
  {
   "cell_type": "code",
   "execution_count": 13,
   "id": "39124cdc",
   "metadata": {},
   "outputs": [
    {
     "data": {
      "text/plain": [
       "(tensor(-1.1321), tensor(-7.2668))"
      ]
     },
     "execution_count": 13,
     "metadata": {},
     "output_type": "execute_result"
    }
   ],
   "source": [
    "# Likelihood con  inserción de logaritmo\n",
    "def calculate_likelihood_gaussian_observationLOG(x_n,mu_k,sigma_k):\n",
    "    \n",
    "    p_x1 = prob_density = (1/np.sqrt((2.0*np.pi*sigma_k[0]))) * np.exp(-0.5*((x_n-mu_k[0])/sigma_k[0])**2)\n",
    "    logp_x1= np.log(p_x1)\n",
    "    \n",
    "    p_x2 = prob_density = (1/np.sqrt((2.0*np.pi*sigma_k[1]))) * np.exp(-0.5*((x_n-mu_k[1])/sigma_k[1])**2)\n",
    "    logp_x2 =  np.log(p_x2)\n",
    "    \n",
    "    return logp_x1,logp_x2\n",
    "\n",
    "calculate_likelihood_gaussian_observationLOG(X_allSamples[0], mu_k = [10,20], sigma_k = [1.5,3])\n"
   ]
  },
  {
   "cell_type": "code",
   "execution_count": 14,
   "id": "7396bc75",
   "metadata": {},
   "outputs": [],
   "source": [
    "# Conclusión, para efectos de los datos se determina utilizar likelihood sin logaritmo."
   ]
  },
  {
   "cell_type": "markdown",
   "id": "c1670a36",
   "metadata": {},
   "source": [
    "### 4. Calculate_membership"
   ]
  },
  {
   "cell_type": "code",
   "execution_count": 15,
   "id": "fd084f2e",
   "metadata": {
    "scrolled": false
   },
   "outputs": [],
   "source": [
    "def calculate_membership_dataset(X_dataset,Parameters_matrix):\n",
    "    #crear una matriz con ceros\n",
    "    N = len(X_dataset)\n",
    "    k = 2\n",
    "    M = torch.zeros((N, k))\n",
    "    \n",
    "    #calculate_likelihood\n",
    "    likelihood1,likelihood2 = calculate_likelihood_gaussian_observation(X_dataset,Parameters_matrix[:,0],Parameters_matrix[:,1])\n",
    "    \n",
    "    #print(\"likelihood2:\", likelihood2.reshape([N, 1]))\n",
    "    likelihoodALL = torch.cat((likelihood1.reshape([N, 1]), likelihood2.reshape([N, 1])), 1)\n",
    "    \n",
    "    M[:,0] = likelihoodALL[:,0] > likelihoodALL[:,1] \n",
    "    M[:,1] = likelihoodALL[:,0] < likelihoodALL[:,1] \n",
    "    \n",
    "    return M\n",
    "\n",
    "#fix_param = torch.tensor([[10,1.5],[20,3]])\n",
    "\n",
    "Membership_Matrix = calculate_membership_dataset(X_allSamples,W_parameters)\n"
   ]
  },
  {
   "cell_type": "markdown",
   "id": "904d2010",
   "metadata": {},
   "source": [
    "## 5. Recalculate_parameters"
   ]
  },
  {
   "cell_type": "code",
   "execution_count": 16,
   "id": "57e8f6de",
   "metadata": {},
   "outputs": [
    {
     "data": {
      "text/plain": [
       "tensor([[14.6001,  5.8353],\n",
       "        [19.7043,  0.9255]])"
      ]
     },
     "execution_count": 16,
     "metadata": {},
     "output_type": "execute_result"
    }
   ],
   "source": [
    "def recalculate_parameters(X_dataset,Membership_data): \n",
    "    \n",
    "    N = len(X_dataset)   \n",
    "    \n",
    "    X1 = torch.cat((X_dataset.reshape([N, 1]),Membership_data[:,0].reshape([N, 1])),1)\n",
    "    X2 = torch.cat((X_dataset.reshape([N, 1]),Membership_data[:,1].reshape([N, 1])),1)\n",
    "    \n",
    "    X1_filtrada = X1[X1[:,1] == 1][:,0]\n",
    "    X2_filtrada = X2[X2[:,1] == 1][:,0]\n",
    "    \n",
    "    mu_x1 = torch.mean(X1_filtrada)\n",
    "    mu_x2 = torch.mean(X2_filtrada)\n",
    "    \n",
    "    sigma_x1 = torch.std(X1_filtrada)\n",
    "    sigma_x2 = torch.std(X2_filtrada)\n",
    "    \n",
    "    new_W = torch.tensor([[mu_x1,sigma_x1],[mu_x2,sigma_x2]])\n",
    "  \n",
    "    return new_W\n",
    "    \n",
    "recalculate_parameters(X_allSamples,Membership_Matrix)\n",
    "\n",
    "\n",
    "#NOTA SI EL RESULTADO DEL RECALCULO DE PARAMETROS ES NAN EJECUTAR NUEVAMENTE EL PROGRAMA\n",
    "    "
   ]
  },
  {
   "cell_type": "markdown",
   "id": "bf64fecd",
   "metadata": {},
   "source": [
    "### 6. Corridas del Algoritmo"
   ]
  },
  {
   "cell_type": "code",
   "execution_count": 33,
   "id": "1729d603",
   "metadata": {
    "scrolled": false
   },
   "outputs": [
    {
     "name": "stdout",
     "output_type": "stream",
     "text": [
      "Iteration number: 1\n",
      "Parameters values used: tensor([[22,  7],\n",
      "        [11,  3]])\n",
      "\n",
      "Iteration number: 2\n",
      "Parameters values used: tensor([[20.7326,  2.8351],\n",
      "        [10.3611,  1.6671]])\n",
      "\n",
      "Iteration number: 3\n",
      "Parameters values used: tensor([[20.6122,  2.9298],\n",
      "        [10.2737,  1.5613]])\n",
      "\n",
      "Iteration number: 4\n",
      "Parameters values used: tensor([[20.6122,  2.9298],\n",
      "        [10.2737,  1.5613]])\n",
      "\n",
      "Iteration number: 5\n",
      "Parameters values used: tensor([[20.6122,  2.9298],\n",
      "        [10.2737,  1.5613]])\n",
      "\n",
      "Iteration number: 6\n",
      "Parameters values used: tensor([[20.6122,  2.9298],\n",
      "        [10.2737,  1.5613]])\n",
      "\n",
      "Iteration number: 7\n",
      "Parameters values used: tensor([[20.6122,  2.9298],\n",
      "        [10.2737,  1.5613]])\n",
      "\n",
      "Iteration number: 8\n",
      "Parameters values used: tensor([[20.6122,  2.9298],\n",
      "        [10.2737,  1.5613]])\n",
      "\n",
      "Iteration number: 9\n",
      "Parameters values used: tensor([[20.6122,  2.9298],\n",
      "        [10.2737,  1.5613]])\n",
      "\n",
      "Iteration number: 10\n",
      "Parameters values used: tensor([[20.6122,  2.9298],\n",
      "        [10.2737,  1.5613]])\n",
      "\n",
      "Iteration number: 11\n",
      "Parameters values used: tensor([[20.6122,  2.9298],\n",
      "        [10.2737,  1.5613]])\n",
      "\n",
      "Iteration number: 12\n",
      "Parameters values used: tensor([[20.6122,  2.9298],\n",
      "        [10.2737,  1.5613]])\n",
      "\n",
      "Iteration number: 13\n",
      "Parameters values used: tensor([[20.6122,  2.9298],\n",
      "        [10.2737,  1.5613]])\n",
      "\n",
      "Iteration number: 14\n",
      "Parameters values used: tensor([[20.6122,  2.9298],\n",
      "        [10.2737,  1.5613]])\n",
      "\n",
      "Iteration number: 15\n",
      "Parameters values used: tensor([[20.6122,  2.9298],\n",
      "        [10.2737,  1.5613]])\n",
      "\n",
      "Iteration number: 16\n",
      "Parameters values used: tensor([[20.6122,  2.9298],\n",
      "        [10.2737,  1.5613]])\n",
      "\n",
      "Iteration number: 17\n",
      "Parameters values used: tensor([[20.6122,  2.9298],\n",
      "        [10.2737,  1.5613]])\n",
      "\n",
      "Iteration number: 18\n",
      "Parameters values used: tensor([[20.6122,  2.9298],\n",
      "        [10.2737,  1.5613]])\n",
      "\n",
      "Iteration number: 19\n",
      "Parameters values used: tensor([[20.6122,  2.9298],\n",
      "        [10.2737,  1.5613]])\n",
      "\n",
      "Iteration number: 20\n",
      "Parameters values used: tensor([[20.6122,  2.9298],\n",
      "        [10.2737,  1.5613]])\n",
      "\n"
     ]
    },
    {
     "data": {
      "image/png": "[encoded data removed]",
      "text/plain": [
       "<Figure size 432x288 with 1 Axes>"
      ]
     },
     "metadata": {
      "needs_background": "light"
     },
     "output_type": "display_data"
    }
   ],
   "source": [
    "initialize_type=True\n",
    "\n",
    "def corridas_iteraciones():\n",
    "   \n",
    "    #global W_parameters\n",
    "    global X_allSamples\n",
    "    \n",
    "    W_parameters = init_random_parameters(K=2, range_mean = [1,50], range_std = [1,10])\n",
    "    \n",
    "    if initialize_type==False:\n",
    "        \n",
    "        W_parameters_h=m_step(X_allSamples,W_parameters)    # En caso de correr la nueva heuristica con los parametros iniciales\n",
    "    \n",
    "       \n",
    "    for i in range(1,21):\n",
    "        print(\"Iteration number: %s\"%i)\n",
    "        \n",
    "            \n",
    "        print(\"Parameters values used: %s\\n\"%W_parameters)\n",
    "\n",
    "        if initialize_type == True:\n",
    "            new_M = calculate_membership_dataset(X_allSamples,W_parameters)\n",
    "            W_parameters = recalculate_parameters(X_allSamples,new_M)\n",
    "        \n",
    "        if initialize_type == False:\n",
    "            new_M = calculate_membership_dataset(X_allSamples,W_parameters_h)\n",
    "            W_parameters = recalculate_parameters(X_allSamples,new_M)\n",
    "            \n",
    "            \n",
    "        if(i==4 or i==9 or i==19):\n",
    "            # Plot Data\n",
    "            y = np.zeros_like(X_allSamples)\n",
    "            #plt.figure(figsize=(12,8))\n",
    "            plt.scatter(X_allSamples, y, marker='.', label=\"Observations\")\n",
    "            mu1 = round(W_parameters[0,0].item(),2)\n",
    "            mu2 = round(W_parameters[1,0].item(),2)\n",
    "            sig1 = round(W_parameters[0,1].item(),2)\n",
    "            sig2 = round(W_parameters[1,1].item(),2)\n",
    "\n",
    "            plt.title(\"µ1=%s, σ1=%s, µ2=%s, σ2=%s\"%(mu1, sig1, mu2, sig2))\n",
    "            plt.xlabel('X Value')\n",
    "            plt.ylabel('PDF')\n",
    "\n",
    "            #Plot densities Functions\n",
    "            plt.scatter(X1_samples, norm.pdf(X1_samples, 10, 1.5), marker='_', color='green', label='Original Bi-Gaussian')\n",
    "            plt.scatter(X2_samples, norm.pdf(X2_samples, 20, 3), marker='_', color='green') \n",
    "            plt.scatter(X1_samples, norm.pdf(X1_samples, W_parameters[0,0], W_parameters[0,1]), marker='x', color='orange', label='Estimated Bi-Gaussian')\n",
    "            plt.scatter(X2_samples, norm.pdf(X2_samples, W_parameters[1,0], W_parameters[1,1]), marker='x', color='orange')      \n",
    "            plt.legend()\n",
    "            #plt.show()\n",
    "            \n",
    "            if initialize_type==False:\n",
    "                plt.savefig(\"EM_plot_5_%s.svg\"%(i+1))\n",
    "            \n",
    "            if (i != 19):\n",
    "                plt.clf()\n",
    "                \n",
    "corridas_iteraciones()"
   ]
  },
  {
   "cell_type": "markdown",
   "id": "bb22fb90",
   "metadata": {},
   "source": [
    "### 7. Heurística nueva para la inicialización de parámetros"
   ]
  },
  {
   "cell_type": "code",
   "execution_count": 18,
   "id": "236da827",
   "metadata": {},
   "outputs": [],
   "source": [
    "# Aplicando estrategia técnica mstep\n",
    "\n",
    "def e_step(x, params):\n",
    "    \n",
    "    params=params.numpy()\n",
    "    x=x.numpy()\n",
    "    \n",
    "    np.log([stats.multivariate_normal(params[0,0], params[0,1]).pdf(x),\n",
    "            stats.multivariate_normal(params[1,0], params[1,1]).pdf(x)])\n",
    "    \n",
    "    log_p_y_x = np.log([1])[np.newaxis, ...] + \\\n",
    "                np.log([stats.multivariate_normal(params[0,0], params[0,1]).pdf(x),\n",
    "            stats.multivariate_normal(params[1,0], params[1,1]).pdf(x)]).T\n",
    "    \n",
    "    log_p_y_x_norm = logsumexp(log_p_y_x, axis=1)\n",
    "    \n",
    "    return log_p_y_x_norm, np.exp(log_p_y_x - log_p_y_x_norm[..., np.newaxis])"
   ]
  },
  {
   "cell_type": "code",
   "execution_count": 19,
   "id": "a2007050",
   "metadata": {},
   "outputs": [
    {
     "data": {
      "text/plain": [
       "tensor([[14.1737, 55.4924],\n",
       "        [19.3995,  4.0917]], dtype=torch.float64)"
      ]
     },
     "execution_count": 19,
     "metadata": {},
     "output_type": "execute_result"
    }
   ],
   "source": [
    "def m_step(x, params):\n",
    "    total_count = x.shape[0]\n",
    "    _, heuristics = e_step(x, params)\n",
    "    x=x.numpy()\n",
    "    heuristic0 = heuristics[:, 0]\n",
    "    heuristic1 = heuristics[:, 1]\n",
    "    sum_heuristic1 = np.sum(heuristic1)\n",
    "    sum_heuristic0 = np.sum(heuristic0)\n",
    "    phi = (sum_heuristic1/total_count)\n",
    "    mu0 = (heuristic0[..., np.newaxis].T.dot(x)/sum_heuristic0).flatten()\n",
    "    mu1 = (heuristic1[..., np.newaxis].T.dot(x)/sum_heuristic1).flatten()\n",
    "    diff0 = x - mu0\n",
    "    sigma0 = diff0.T.dot(diff0 * heuristic0[..., np.newaxis]) / sum_heuristic0\n",
    "    \n",
    "    diff1 = x - mu1\n",
    "    sigma1 = diff1.T.dot(diff1 * heuristic1[..., np.newaxis]) / sum_heuristic1\n",
    "    \n",
    "    \n",
    "    mu0 = torch.from_numpy(mu0)\n",
    "    mu1 = torch.from_numpy(mu1)\n",
    "\n",
    "    sigma0= abs(min(sigma0))*10**15\n",
    "    sigma1= abs(min(sigma1))*10**15\n",
    "    \n",
    "\n",
    "    \n",
    "\n",
    "    new_params=torch.tensor([[mu0,sigma0],[mu1,sigma1]])\n",
    "        \n",
    "\n",
    "    return new_params\n",
    "\n",
    "#W_parameters = init_random_parameters(K=2, range_mean = [1,50], range_std = [1,10])\n",
    "\n",
    "m_step(X_allSamples,W_parameters)\n",
    "\n"
   ]
  },
  {
   "cell_type": "code",
   "execution_count": 60,
   "id": "71f15e3a",
   "metadata": {
    "scrolled": false
   },
   "outputs": [
    {
     "name": "stdout",
     "output_type": "stream",
     "text": [
      "Iteration number: 1\n",
      "Parameters values used: tensor([[12,  2],\n",
      "        [16,  3]])\n",
      "\n",
      "Iteration number: 2\n",
      "Parameters values used: tensor([[10.2737,  1.5613],\n",
      "        [20.6122,  2.9298]])\n",
      "\n",
      "Iteration number: 3\n",
      "Parameters values used: tensor([[10.2737,  1.5613],\n",
      "        [20.6122,  2.9298]])\n",
      "\n",
      "Iteration number: 4\n",
      "Parameters values used: tensor([[10.2737,  1.5613],\n",
      "        [20.6122,  2.9298]])\n",
      "\n",
      "Iteration number: 5\n",
      "Parameters values used: tensor([[10.2737,  1.5613],\n",
      "        [20.6122,  2.9298]])\n",
      "\n",
      "Iteration number: 6\n",
      "Parameters values used: tensor([[10.2737,  1.5613],\n",
      "        [20.6122,  2.9298]])\n",
      "\n",
      "Iteration number: 7\n",
      "Parameters values used: tensor([[10.2737,  1.5613],\n",
      "        [20.6122,  2.9298]])\n",
      "\n",
      "Iteration number: 8\n",
      "Parameters values used: tensor([[10.2737,  1.5613],\n",
      "        [20.6122,  2.9298]])\n",
      "\n",
      "Iteration number: 9\n",
      "Parameters values used: tensor([[10.2737,  1.5613],\n",
      "        [20.6122,  2.9298]])\n",
      "\n",
      "Iteration number: 10\n",
      "Parameters values used: tensor([[10.2737,  1.5613],\n",
      "        [20.6122,  2.9298]])\n",
      "\n",
      "Iteration number: 11\n",
      "Parameters values used: tensor([[10.2737,  1.5613],\n",
      "        [20.6122,  2.9298]])\n",
      "\n",
      "Iteration number: 12\n",
      "Parameters values used: tensor([[10.2737,  1.5613],\n",
      "        [20.6122,  2.9298]])\n",
      "\n",
      "Iteration number: 13\n",
      "Parameters values used: tensor([[10.2737,  1.5613],\n",
      "        [20.6122,  2.9298]])\n",
      "\n",
      "Iteration number: 14\n",
      "Parameters values used: tensor([[10.2737,  1.5613],\n",
      "        [20.6122,  2.9298]])\n",
      "\n",
      "Iteration number: 15\n",
      "Parameters values used: tensor([[10.2737,  1.5613],\n",
      "        [20.6122,  2.9298]])\n",
      "\n",
      "Iteration number: 16\n",
      "Parameters values used: tensor([[10.2737,  1.5613],\n",
      "        [20.6122,  2.9298]])\n",
      "\n",
      "Iteration number: 17\n",
      "Parameters values used: tensor([[10.2737,  1.5613],\n",
      "        [20.6122,  2.9298]])\n",
      "\n",
      "Iteration number: 18\n",
      "Parameters values used: tensor([[10.2737,  1.5613],\n",
      "        [20.6122,  2.9298]])\n",
      "\n",
      "Iteration number: 19\n",
      "Parameters values used: tensor([[10.2737,  1.5613],\n",
      "        [20.6122,  2.9298]])\n",
      "\n",
      "Iteration number: 20\n",
      "Parameters values used: tensor([[10.2737,  1.5613],\n",
      "        [20.6122,  2.9298]])\n",
      "\n"
     ]
    },
    {
     "data": {
      "image/png": "[encoded data removed]",
      "text/plain": [
       "<Figure size 432x288 with 1 Axes>"
      ]
     },
     "metadata": {
      "needs_background": "light"
     },
     "output_type": "display_data"
    }
   ],
   "source": [
    "initialize_type=False\n",
    "\n",
    "corridas_iteraciones()"
   ]
  },
  {
   "cell_type": "code",
   "execution_count": null,
   "id": "1b008d64",
   "metadata": {},
   "outputs": [],
   "source": []
  },
  {
   "cell_type": "code",
   "execution_count": null,
   "id": "13caf78d",
   "metadata": {},
   "outputs": [],
   "source": []
  }
 ],
 "metadata": {
  "kernelspec": {
   "display_name": "Python 3 (ipykernel)",
   "language": "python",
   "name": "python3"
  },
  "language_info": {
   "codemirror_mode": {
    "name": "ipython",
    "version": 3
   },
   "file_extension": ".py",
   "mimetype": "text/x-python",
   "name": "python",
   "nbconvert_exporter": "python",
   "pygments_lexer": "ipython3",
   "version": "3.9.12"
  }
 },
 "nbformat": 4,
 "nbformat_minor": 5
}
